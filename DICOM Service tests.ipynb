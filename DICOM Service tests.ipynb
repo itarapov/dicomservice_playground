{
 "cells": [
  {
   "cell_type": "code",
   "execution_count": 50,
   "metadata": {},
   "outputs": [],
   "source": [
    "import requests\n",
    "import pydicom\n",
    "from pathlib import Path\n",
    "from urllib3.filepost import encode_multipart_formdata, choose_boundary\n",
    "from azure.identity import DefaultAzureCredential\n",
    "from typing import List"
   ]
  },
  {
   "attachments": {},
   "cell_type": "markdown",
   "id": "7e388072",
   "metadata": {},
   "source": [
    "# Authentication\n",
    "Set up common variables"
   ]
  },
  {
   "cell_type": "code",
   "execution_count": 46,
   "id": "c8c2e236",
   "metadata": {},
   "outputs": [],
   "source": [
    "dicom_service_name = \"dicomservice-eastus\"\n",
    "path_to_dicoms_dir = \"./dicoms/\"\n",
    "\n",
    "# West US\n",
    "# base_url = f\"https://medicalimaging-ivan-images.dicom.azurehealthcareapis.com/v1\" \n",
    "\n",
    "# East US\n",
    "base_url = f\"https://healthserviceseastusws-dicomservice-eastus.dicom.azurehealthcareapis.com/v1\"\n",
    "\n",
    "study_uid = \"1.2.826.0.1.3680043.8.498.13230779778012324449356534479549187420\"; #StudyInstanceUID for all 3 examples\n",
    "series_uid = \"1.2.826.0.1.3680043.8.498.45787841905473114233124723359129632652\"; #SeriesInstanceUID for green-square and red-triangle\n",
    "instance_uid = \"1.2.826.0.1.3680043.8.498.47359123102728459884412887463296905395\"; #SOPInstanceUID for red-triangle"
   ]
  },
  {
   "cell_type": "code",
   "execution_count": 58,
   "id": "62aa6702",
   "metadata": {},
   "outputs": [
    {
     "name": "stdout",
     "output_type": "stream",
     "text": [
      "(<azure.identity._credentials.environment.EnvironmentCredential object at 0x000001C454DD8A30>, <azure.identity._credentials.managed_identity.ManagedIdentityCredential object at 0x000001C454DDA620>, <azure.identity._credentials.shared_cache.SharedTokenCacheCredential object at 0x000001C454DF0A30>, <azure.identity._credentials.azure_cli.AzureCliCredential object at 0x000001C454C503A0>, <azure.identity._credentials.azure_powershell.AzurePowerShellCredential object at 0x000001C454C505B0>)\n"
     ]
    }
   ],
   "source": [
    "from azure.identity import DefaultAzureCredential\n",
    "credential = DefaultAzureCredential()\n",
    "\n",
    "print(credential.credentials) # this can be used to find the index of the AzureCliCredential"
   ]
  },
  {
   "cell_type": "code",
   "execution_count": 59,
   "id": "133a33b6",
   "metadata": {},
   "outputs": [
    {
     "name": "stdout",
     "output_type": "stream",
     "text": [
      "eyJ0eXAiOiJKV1QiLCJhbGciOiJSUzI1NiIsIng1dCI6Ii1LSTNROW5OUjdiUm9meG1lWm9YcWJIWkdldyIsImtpZCI6Ii1LSTNROW5OUjdiUm9meG1lWm9YcWJIWkdldyJ9.eyJhdWQiOiJodHRwczovL2RpY29tLmhlYWx0aGNhcmVhcGlzLmF6dXJlLmNvbSIsImlzcyI6Imh0dHBzOi8vc3RzLndpbmRvd3MubmV0L2E0NjJmNDQ3LTc3Y2YtNDFiYy1hOTQ5LWQzNmI4NTg4NjM1MC8iLCJpYXQiOjE2NzcwMDUxOTYsIm5iZiI6MTY3NzAwNTE5NiwiZXhwIjoxNjc3MDA5NjYyLCJhY3IiOiIxIiwiYWlvIjoiQVZRQXEvOFRBQUFBOFNTNzZQMDlDUjFjMlFXUC8vcktMUUoyOEpwVER3LzZBU0FMRnB1MENYV0c5YzhCMWg0ZjgyZi9vd0xPOW5ZZlFwNDBCWVBsdC9LeDdxMGw4ZkxDTWI1bER1bGtZbzluZkRjMmx0emhOTDA9IiwiYWx0c2VjaWQiOiIxOmxpdmUuY29tOjAwMDM0MDAxOEFGMDIxOTYiLCJhbXIiOlsicHdkIl0sImFwcGlkIjoiMDRiMDc3OTUtOGRkYi00NjFhLWJiZWUtMDJmOWUxYmY3YjQ2IiwiYXBwaWRhY3IiOiIwIiwiZW1haWwiOiJ0YXJhcG92QGdtYWlsLmNvbSIsImZhbWlseV9uYW1lIjoiVGFyYXBvdiIsImdpdmVuX25hbWUiOiJJdmFuIiwiaWRwIjoibGl2ZS5jb20iLCJpcGFkZHIiOiI3MS4yMzEuMTc3LjUyIiwibmFtZSI6Ikl2YW4gVGFyYXBvdiIsIm9pZCI6Ijg4OGQ4YWU5LWI4MzYtNDgzMy04NmNmLTYyMWNlOTRmYjEwZiIsInB1aWQiOiIxMDAzMjAwMEM4RDNEQzJFIiwicmgiOiIwLkFWa0FSX1JpcE05M3ZFR3BTZE5yaFloalVMOGw1M1hPWnVwTW01cGNUS3JsZnpOWkFQSS4iLCJzY3AiOiJ1c2VyX2ltcGVyc29uYXRpb24iLCJzdWIiOiJvSUZ0bFBDSGxZVDg5R2tsLTFCaUUtQjkyVEwtU2x1ZG9fNDlrTXBRWUpJIiwidGlkIjoiYTQ2MmY0NDctNzdjZi00MWJjLWE5NDktZDM2Yjg1ODg2MzUwIiwidW5pcXVlX25hbWUiOiJsaXZlLmNvbSN0YXJhcG92QGdtYWlsLmNvbSIsInV0aSI6IkxkdlFHbVdLZTBtQ1RoTHowbUZrQUEiLCJ2ZXIiOiIxLjAifQ.q1-z3R9DI098gBwdjY7D6XZqJKEoFH2bcVlUTOputrFUZ5MLUpG7yVJAXei5a_i-_HirS0d-7_M_zBWUPQZ0NTj2V-0FVK2fdRweU2GqeYoJi9wMG1Ve7G9bY22_KMCgtxrTa_XzLT0FOZGywsX9uqRysXKPf9HdTzAweBEmX7jjIpBG5U3UDu4q-KzIsg4UpPKERfIZTS5yaEN2H9EeF3g9SrxiHk08RY5Ur0MF9DD43Tk7fWCK9JB99sNC6bkmLtkFFXnEvQaWbUz-JEAnI820batscdDAXWeN-_h9lgMY9nbRALNGL9ZILzmIW3vEzifmOlCWHymxbf3YY01RNg\n"
     ]
    }
   ],
   "source": [
    "# need AzureCliCredential object here\n",
    "token = credential.credentials[3].get_token('https://dicom.healthcareapis.azure.com')\n",
    "bearer_token = f'Bearer {token.token}'\n",
    "print(token.token)"
   ]
  },
  {
   "cell_type": "code",
   "execution_count": 20,
   "id": "83efa3d1",
   "metadata": {},
   "outputs": [],
   "source": [
    "# Supporting method for multipart requests\n",
    "def encode_multipart_related(fields, boundary=None):\n",
    "    if boundary is None:\n",
    "        boundary = choose_boundary()\n",
    "\n",
    "    body, _ = encode_multipart_formdata(fields, boundary)\n",
    "    content_type = str('multipart/related; boundary=%s' % boundary)\n",
    "\n",
    "    return body, content_type"
   ]
  },
  {
   "cell_type": "code",
   "execution_count": 40,
   "id": "295d91f3",
   "metadata": {},
   "outputs": [],
   "source": [
    "client = requests.session()\n"
   ]
  },
  {
   "cell_type": "code",
   "execution_count": 47,
   "id": "d74dace5",
   "metadata": {},
   "outputs": [
    {
     "name": "stdout",
     "output_type": "stream",
     "text": [
      "b'[{\"sequence\":1,\"partitionName\":\"Microsoft.Default\",\"studyInstanceUid\":\"1.2.826.0.1.3680043.8.498.13230779778012324449356534479549187420\",\"seriesInstanceUid\":\"1.2.826.0.1.3680043.8.498.45787841905473114233124723359129632652\",\"sopInstanceUid\":\"1.2.826.0.1.3680043.8.498.47359123102728459884412887463296905395\",\"action\":\"Create\",\"timestamp\":\"2023-02-21T07:55:28.2364373+00:00\",\"state\":\"Current\",\"metadata\":{\"00080005\":{\"vr\":\"CS\",\"Value\":[\"ISO_IR 192\"]},\"00080008\":{\"vr\":\"CS\",\"Value\":[\"DERIVED\",\"SECONDARY\",\"OTHER\"]},\"00080016\":{\"vr\":\"UI\",\"Value\":[\"1.2.840.10008.5.1.4.1.1.7\"]},\"00080018\":{\"vr\":\"UI\",\"Value\":[\"1.2.826.0.1.3680043.8.498.47359123102728459884412887463296905395\"]},\"00080020\":{\"vr\":\"DA\",\"Value\":[\"20200922\"]},\"00080023\":{\"vr\":\"DA\"},\"0008002A\":{\"vr\":\"DT\"},\"00080030\":{\"vr\":\"TM\",\"Value\":[\"120000\"]},\"00080033\":{\"vr\":\"TM\"},\"00080050\":{\"vr\":\"SH\"},\"00080060\":{\"vr\":\"CS\",\"Value\":[\"OT\"]},\"00080064\":{\"vr\":\"CS\",\"Value\":[\"SYN\"]},\"00080090\":{\"vr\":\"PN\",\"Value\":[{\"Alphabetic\":\"Doctor Doc\"}]},\"00100010\":{\"vr\":\"PN\",\"Value\":[{\"Alphabetic\":\"Anony Mous\"}]},\"00100020\":{\"vr\":\"LO\",\"Value\":[\"ID1\"]},\"00100030\":{\"vr\":\"DA\"},\"00100040\":{\"vr\":\"CS\",\"Value\":[\"F\"]},\"00101010\":{\"vr\":\"AS\",\"Value\":[\"024Y\"]},\"00185100\":{\"vr\":\"CS\"},\"0020000D\":{\"vr\":\"UI\",\"Value\":[\"1.2.826.0.1.3680043.8.498.13230779778012324449356534479549187420\"]},\"0020000E\":{\"vr\":\"UI\",\"Value\":[\"1.2.826.0.1.3680043.8.498.45787841905473114233124723359129632652\"]},\"00200010\":{\"vr\":\"SH\",\"Value\":[\"1\"]},\"00200011\":{\"vr\":\"IS\",\"Value\":[1]},\"00200013\":{\"vr\":\"IS\",\"Value\":[1]},\"00200020\":{\"vr\":\"CS\"},\"00200060\":{\"vr\":\"CS\"},\"00204000\":{\"vr\":\"LT\",\"Value\":[\"Fake DICOM - Red Triangle\"]},\"00280002\":{\"vr\":\"US\",\"Value\":[3]},\"00280004\":{\"vr\":\"CS\",\"Value\":[\"RGB\"]},\"00280006\":{\"vr\":\"US\",\"Value\":[0]},\"00280010\":{\"vr\":\"US\",\"Value\":[979]},\"00280011\":{\"vr\":\"US\",\"Value\":[985]},\"00280030\":{\"vr\":\"DS\",\"Value\":[1.0,1.0]},\"00280100\":{\"vr\":\"US\",\"Value\":[8]},\"00280101\":{\"vr\":\"US\",\"Value\":[8]},\"00280102\":{\"vr\":\"US\",\"Value\":[7]},\"00280103\":{\"vr\":\"US\",\"Value\":[0]},\"00280106\":{\"vr\":\"US\",\"Value\":[0]},\"00280107\":{\"vr\":\"US\",\"Value\":[255]}}},{\"sequence\":2,\"partitionName\":\"Microsoft.Default\",\"studyInstanceUid\":\"1.2.826.0.1.3680043.8.498.13230779778012324449356534479549187420\",\"seriesInstanceUid\":\"1.2.826.0.1.3680043.8.498.45787841905473114233124723359129632652\",\"sopInstanceUid\":\"1.2.826.0.1.3680043.8.498.12714725698140337137334606354172323212\",\"action\":\"Create\",\"timestamp\":\"2023-02-21T07:55:28.3614398+00:00\",\"state\":\"Current\",\"metadata\":{\"00080005\":{\"vr\":\"CS\",\"Value\":[\"ISO_IR 192\"]},\"00080008\":{\"vr\":\"CS\",\"Value\":[\"DERIVED\",\"SECONDARY\",\"OTHER\"]},\"00080016\":{\"vr\":\"UI\",\"Value\":[\"1.2.840.10008.5.1.4.1.1.7\"]},\"00080018\":{\"vr\":\"UI\",\"Value\":[\"1.2.826.0.1.3680043.8.498.12714725698140337137334606354172323212\"]},\"00080020\":{\"vr\":\"DA\",\"Value\":[\"20200922\"]},\"00080023\":{\"vr\":\"DA\"},\"0008002A\":{\"vr\":\"DT\"},\"00080030\":{\"vr\":\"TM\",\"Value\":[\"120000\"]},\"00080033\":{\"vr\":\"TM\"},\"00080050\":{\"vr\":\"SH\"},\"00080060\":{\"vr\":\"CS\",\"Value\":[\"OT\"]},\"00080064\":{\"vr\":\"CS\",\"Value\":[\"SYN\"]},\"00080090\":{\"vr\":\"PN\",\"Value\":[{\"Alphabetic\":\"Doctor Doc\"}]},\"00100010\":{\"vr\":\"PN\",\"Value\":[{\"Alphabetic\":\"Anony Mous\"}]},\"00100020\":{\"vr\":\"LO\",\"Value\":[\"ID1\"]},\"00100030\":{\"vr\":\"DA\"},\"00100040\":{\"vr\":\"CS\",\"Value\":[\"F\"]},\"00101010\":{\"vr\":\"AS\",\"Value\":[\"024Y\"]},\"00185100\":{\"vr\":\"CS\"},\"0020000D\":{\"vr\":\"UI\",\"Value\":[\"1.2.826.0.1.3680043.8.498.13230779778012324449356534479549187420\"]},\"0020000E\":{\"vr\":\"UI\",\"Value\":[\"1.2.826.0.1.3680043.8.498.45787841905473114233124723359129632652\"]},\"00200010\":{\"vr\":\"SH\",\"Value\":[\"1\"]},\"00200011\":{\"vr\":\"IS\",\"Value\":[1]},\"00200013\":{\"vr\":\"IS\",\"Value\":[2]},\"00200020\":{\"vr\":\"CS\"},\"00200060\":{\"vr\":\"CS\"},\"00204000\":{\"vr\":\"LT\",\"Value\":[\"Fake DICOM - Green Square\"]},\"00280002\":{\"vr\":\"US\",\"Value\":[3]},\"00280004\":{\"vr\":\"CS\",\"Value\":[\"RGB\"]},\"00280006\":{\"vr\":\"US\",\"Value\":[0]},\"00280010\":{\"vr\":\"US\",\"Value\":[979]},\"00280011\":{\"vr\":\"US\",\"Value\":[985]},\"00280030\":{\"vr\":\"DS\",\"Value\":[1.0,1.0]},\"00280100\":{\"vr\":\"US\",\"Value\":[8]},\"00280101\":{\"vr\":\"US\",\"Value\":[8]},\"00280102\":{\"vr\":\"US\",\"Value\":[7]},\"00280103\":{\"vr\":\"US\",\"Value\":[0]},\"00280106\":{\"vr\":\"US\",\"Value\":[0]},\"00280107\":{\"vr\":\"US\",\"Value\":[255]}}}]'\n"
     ]
    }
   ],
   "source": [
    "headers = {\"Authorization\":bearer_token}\n",
    "url= f'{base_url}/changefeed'\n",
    "response = client.get(url,headers=headers)\n",
    "\n",
    "print(response.content)"
   ]
  },
  {
   "attachments": {},
   "cell_type": "markdown",
   "id": "03a2983c",
   "metadata": {},
   "source": [
    "# Sending"
   ]
  },
  {
   "cell_type": "code",
   "execution_count": 54,
   "id": "cb0c544b",
   "metadata": {},
   "outputs": [],
   "source": [
    "def send_dicom_files(folder_name: str, path_to_dicom_dir: str, base_url: str, bearer_token: str):\n",
    "\n",
    "    file_extension = \".*\"\n",
    "\n",
    "    # Get a list of all files in the folder with the specified file extension\n",
    "    folder_path = Path(folder_name)\n",
    "    file_names = [str(file_path) for file_path in folder_path.glob(f'*{file_extension}')]\n",
    "\n",
    "     # Create a list to store the file bytes\n",
    "    rawfiles = []\n",
    "    \n",
    "    # Read the contents of each file and add them to the list\n",
    "    for file_name in file_names:\n",
    "        filepath = Path(path_to_dicom_dir).joinpath(file_name)\n",
    "        with open(filepath, 'rb') as reader:\n",
    "            rawfile = reader.read()\n",
    "        rawfiles.append(rawfile)\n",
    "    \n",
    "    # Create a list of tuples containing the file data and MIME type\n",
    "    files = {}\n",
    "    for i in range(len(rawfiles)):\n",
    "        file_data = rawfiles[i]\n",
    "        file_name = f'dicomfile{i}'\n",
    "        file_mime_type = 'application/dicom'\n",
    "        files[file_name]=('dicomfile', file_data, file_mime_type)\n",
    "\n",
    "    # Encode the file data as multipart_related\n",
    "    body, content_type = encode_multipart_related(fields=files)\n",
    "\n",
    "    # Set the request headers\n",
    "    headers = {\n",
    "        'Accept': 'application/dicom+json',\n",
    "        'Content-Type': content_type,\n",
    "        'Authorization': bearer_token\n",
    "    }\n",
    "\n",
    "    # Send the POST request to the API endpoint\n",
    "    url = f'{base_url}/studies'\n",
    "    response = client.post(url, data=body, headers=headers, verify=False)\n",
    "\n",
    "    # Return the response from the API endpoint\n",
    "    return response\n",
    "\n",
    "    # for each file in files:\n",
    "        \n",
    "    # filepath_red = Path(path_to_dicoms_dir).joinpath('red-triangle.dcm')\n",
    "    # filepath_green = Path(path_to_dicoms_dir).joinpath('green-square.dcm')\n",
    "\n",
    "    # # Open up and read through file and load bytes into memory \n",
    "    # with open(filepath_red,'rb') as reader:\n",
    "    #     rawfile_red = reader.read()\n",
    "    # with open(filepath_green,'rb') as reader:\n",
    "    #     rawfile_green = reader.read()  \n",
    "        \n",
    "    # files = {'file_red': ('dicomfile', rawfile_red, 'application/dicom'),\n",
    "    #         'file_green': ('dicomfile', rawfile_green, 'application/dicom')}\n",
    "\n",
    "    # #encode as multipart_related\n",
    "    # body, content_type = encode_multipart_related(fields = files)\n",
    "\n",
    "    # headers = {'Accept':'application/dicom+json', \"Content-Type\":content_type, \"Authorization\":bearer_token}\n",
    "\n",
    "    # url = f'{base_url}/studies'\n",
    "    # response = client.post(url, body, headers=headers, verify=False)\n",
    "    # return response"
   ]
  },
  {
   "cell_type": "code",
   "execution_count": 60,
   "id": "7dc7e353",
   "metadata": {},
   "outputs": [],
   "source": [
    "response = send_dicom_files([\"1.dcm\"], \"dicoms/sample_ct\", base_url, bearer_token)"
   ]
  },
  {
   "cell_type": "code",
   "execution_count": 62,
   "id": "aa46d8e5",
   "metadata": {},
   "outputs": [
    {
     "name": "stdout",
     "output_type": "stream",
     "text": [
      "Status: 409\n",
      "\n",
      "b'{\"00081198\":{\"vr\":\"SQ\",\"Value\":[{\"00081150\":{\"vr\":\"UI\",\"Value\":[\"1.2.840.10008.5.1.4.1.1.2\"]},\"00081155\":{\"vr\":\"UI\",\"Value\":[\"1.3.6.1.4.1.9590.100.1.2.407657022912537111628176213871706093007\"]},\"00081197\":{\"vr\":\"US\",\"Value\":[43264]},\"00741048\":{\"vr\":\"SQ\",\"Value\":[{\"00000902\":{\"vr\":\"LO\",\"Value\":[\"DICOM100: (0008,0020) - Dicom element \\'StudyDate\\' failed validation for VR \\'DA\\': Value cannot be parsed as a valid date.\"]}},{\"00000902\":{\"vr\":\"LO\",\"Value\":[\"DICOM100: (0010,0030) - Dicom element \\'PatientBirthDate\\' failed validation for VR \\'DA\\': Value cannot be parsed as a valid date.\"]}}]}}]}}'\n"
     ]
    }
   ],
   "source": [
    "print(f\"Status: {response.status_code}\\n\")\n",
    "print(response.content)\n"
   ]
  },
  {
   "attachments": {},
   "cell_type": "markdown",
   "id": "9b11795f",
   "metadata": {},
   "source": [
    "# Deletion"
   ]
  },
  {
   "cell_type": "code",
   "execution_count": null,
   "id": "1c429a4a",
   "metadata": {},
   "outputs": [],
   "source": []
  }
 ],
 "metadata": {
  "kernelspec": {
   "display_name": "medai",
   "language": "python",
   "name": "python3"
  },
  "language_info": {
   "codemirror_mode": {
    "name": "ipython",
    "version": 3
   },
   "file_extension": ".py",
   "mimetype": "text/x-python",
   "name": "python",
   "nbconvert_exporter": "python",
   "pygments_lexer": "ipython3",
   "version": "3.10.9"
  },
  "vscode": {
   "interpreter": {
    "hash": "f4425ee9ffb484bd0ba983521924868f5f7eeb31433c0278f49fa2db76e8973b"
   }
  }
 },
 "nbformat": 4,
 "nbformat_minor": 5
}
