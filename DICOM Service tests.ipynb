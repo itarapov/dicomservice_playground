{
 "cells": [
  {
   "cell_type": "code",
   "execution_count": 1,
   "metadata": {},
   "outputs": [],
   "source": [
    "import requests\n",
    "import pydicom\n",
    "import json\n",
    "from pathlib import Path\n",
    "from urllib3.filepost import encode_multipart_formdata, choose_boundary\n",
    "from azure.identity import DefaultAzureCredential\n",
    "from typing import List"
   ]
  },
  {
   "attachments": {},
   "cell_type": "markdown",
   "id": "7e388072",
   "metadata": {},
   "source": [
    "# Authentication\n",
    "Set up common variables"
   ]
  },
  {
   "cell_type": "code",
   "execution_count": 2,
   "id": "c8c2e236",
   "metadata": {},
   "outputs": [],
   "source": [
    "dicom_service_name = \"dicomservice-eastus\"\n",
    "path_to_dicoms_dir = \"./dicoms/\"\n",
    "\n",
    "# West US\n",
    "# base_url = f\"https://medicalimaging-ivan-images.dicom.azurehealthcareapis.com/v1\" \n",
    "\n",
    "# East US\n",
    "base_url = f\"https://healthserviceseastusws-dicomservice-eastus.dicom.azurehealthcareapis.com/v1\"\n",
    "\n",
    "study_uid = \"1.2.826.0.1.3680043.8.498.13230779778012324449356534479549187420\"; #StudyInstanceUID for all 3 examples\n",
    "series_uid = \"1.2.826.0.1.3680043.8.498.45787841905473114233124723359129632652\"; #SeriesInstanceUID for green-square and red-triangle\n",
    "instance_uid = \"1.2.826.0.1.3680043.8.498.47359123102728459884412887463296905395\"; #SOPInstanceUID for red-triangle"
   ]
  },
  {
   "cell_type": "code",
   "execution_count": 3,
   "id": "62aa6702",
   "metadata": {},
   "outputs": [
    {
     "name": "stdout",
     "output_type": "stream",
     "text": [
      "(<azure.identity._credentials.environment.EnvironmentCredential object at 0x000001D1E965BC10>, <azure.identity._credentials.managed_identity.ManagedIdentityCredential object at 0x000001D1EB05F460>, <azure.identity._credentials.shared_cache.SharedTokenCacheCredential object at 0x000001D1EB05F730>, <azure.identity._credentials.azure_cli.AzureCliCredential object at 0x000001D1EB0908E0>, <azure.identity._credentials.azure_powershell.AzurePowerShellCredential object at 0x000001D1EB0909A0>)\n"
     ]
    }
   ],
   "source": [
    "from azure.identity import DefaultAzureCredential\n",
    "credential = DefaultAzureCredential()\n",
    "\n",
    "print(credential.credentials) # this can be used to find the index of the AzureCliCredential"
   ]
  },
  {
   "cell_type": "code",
   "execution_count": 4,
   "id": "133a33b6",
   "metadata": {},
   "outputs": [
    {
     "name": "stdout",
     "output_type": "stream",
     "text": [
      "eyJ0eXAiOiJKV1QiLCJhbGciOiJSUzI1NiIsIng1dCI6Ii1LSTNROW5OUjdiUm9meG1lWm9YcWJIWkdldyIsImtpZCI6Ii1LSTNROW5OUjdiUm9meG1lWm9YcWJIWkdldyJ9.eyJhdWQiOiJodHRwczovL2RpY29tLmhlYWx0aGNhcmVhcGlzLmF6dXJlLmNvbSIsImlzcyI6Imh0dHBzOi8vc3RzLndpbmRvd3MubmV0L2E0NjJmNDQ3LTc3Y2YtNDFiYy1hOTQ5LWQzNmI4NTg4NjM1MC8iLCJpYXQiOjE2NzcyMjU3MzIsIm5iZiI6MTY3NzIyNTczMiwiZXhwIjoxNjc3MjMwMDUzLCJhY3IiOiIxIiwiYWlvIjoiQVZRQXEvOFRBQUFBVEVrM2hNVHlVU0FWWDNqeWk1cWdTUVdRSXpLM3ZpOTlDTm9sN2diclRGMDF2dklsVk9xUFhWbGN5R25Mc0lFaVN5YlhTOVNjWjhrT2E3aVFCR2xqdmNKaTh0K3hxVjdibDd2V2IwalNzTU09IiwiYWx0c2VjaWQiOiIxOmxpdmUuY29tOjAwMDM0MDAxOEFGMDIxOTYiLCJhbXIiOlsicHdkIl0sImFwcGlkIjoiMDRiMDc3OTUtOGRkYi00NjFhLWJiZWUtMDJmOWUxYmY3YjQ2IiwiYXBwaWRhY3IiOiIwIiwiZW1haWwiOiJ0YXJhcG92QGdtYWlsLmNvbSIsImZhbWlseV9uYW1lIjoiVGFyYXBvdiIsImdpdmVuX25hbWUiOiJJdmFuIiwiaWRwIjoibGl2ZS5jb20iLCJpcGFkZHIiOiI3MS4yMzEuMTc3LjUyIiwibmFtZSI6Ikl2YW4gVGFyYXBvdiIsIm9pZCI6Ijg4OGQ4YWU5LWI4MzYtNDgzMy04NmNmLTYyMWNlOTRmYjEwZiIsInB1aWQiOiIxMDAzMjAwMEM4RDNEQzJFIiwicmgiOiIwLkFWa0FSX1JpcE05M3ZFR3BTZE5yaFloalVMOGw1M1hPWnVwTW01cGNUS3JsZnpOWkFQSS4iLCJzY3AiOiJ1c2VyX2ltcGVyc29uYXRpb24iLCJzdWIiOiJvSUZ0bFBDSGxZVDg5R2tsLTFCaUUtQjkyVEwtU2x1ZG9fNDlrTXBRWUpJIiwidGlkIjoiYTQ2MmY0NDctNzdjZi00MWJjLWE5NDktZDM2Yjg1ODg2MzUwIiwidW5pcXVlX25hbWUiOiJsaXZlLmNvbSN0YXJhcG92QGdtYWlsLmNvbSIsInV0aSI6IktZWXRPbkNWSVVDb0lGQ2lZSTlfQUEiLCJ2ZXIiOiIxLjAifQ.Ek_B0H20U3_prfkWGx41tQ5CvI_eMJJarQJotNTsz0fQRpc8V_YIXbMPLoTPUulsN8DJe5gzNHMx2jZiP5L2anhoD2ROewXuu4Bg3tZM2VA9Oo_TKW2sgrSSY8RmF9LMAHsVUsc5BjhmHNaclAzPSvPB5frsj9XQIpqlMVSeBAwPHhtr8rBBbmIySFqZ1uLoQrZFE4fhTz1eNqFjZ4apiy2pUmN6y8KoXcssxU0pq8dIYtshwYuW6PEi6HLtaCiKMbgBhVl-s2GVR5sRx11LJOj9pp3dSK3YGMKiI3PErKR1VjXoHOQePHmOXbC8xxg651ykdk_60DyxcnGmo7Lbug\n"
     ]
    }
   ],
   "source": [
    "# need AzureCliCredential object here\n",
    "token = credential.credentials[3].get_token('https://dicom.healthcareapis.azure.com')\n",
    "bearer_token = f'Bearer {token.token}'\n",
    "print(token.token)"
   ]
  },
  {
   "cell_type": "code",
   "execution_count": 5,
   "id": "83efa3d1",
   "metadata": {},
   "outputs": [],
   "source": [
    "# Supporting method for multipart requests\n",
    "def encode_multipart_related(fields, boundary=None):\n",
    "    if boundary is None:\n",
    "        boundary = choose_boundary()\n",
    "\n",
    "    body, _ = encode_multipart_formdata(fields, boundary)\n",
    "    content_type = str('multipart/related; boundary=%s' % boundary)\n",
    "\n",
    "    return body, content_type\n",
    "\n",
    "# Check if file is a DICOM file\n",
    "def is_dicom_file(filename):\n",
    "    try:\n",
    "        dataset = pydicom.filereader.dcmread(filename, stop_before_pixels=True)\n",
    "        return True\n",
    "    except pydicom.errors.InvalidDicomError:\n",
    "        return False"
   ]
  },
  {
   "cell_type": "code",
   "execution_count": 6,
   "id": "295d91f3",
   "metadata": {},
   "outputs": [],
   "source": [
    "client = requests.session()\n"
   ]
  },
  {
   "cell_type": "code",
   "execution_count": 7,
   "id": "d74dace5",
   "metadata": {},
   "outputs": [
    {
     "name": "stdout",
     "output_type": "stream",
     "text": [
      "b'[{\"sequence\":1,\"partitionName\":\"Microsoft.Default\",\"studyInstanceUid\":\"1.2.826.0.1.3680043.8.498.13230779778012324449356534479549187420\",\"seriesInstanceUid\":\"1.2.826.0.1.3680043.8.498.45787841905473114233124723359129632652\",\"sopInstanceUid\":\"1.2.826.0.1.3680043.8.498.47359123102728459884412887463296905395\",\"action\":\"Create\",\"timestamp\":\"2023-02-21T07:55:28.2364373+00:00\",\"state\":\"Current\",\"metadata\":{\"00080005\":{\"vr\":\"CS\",\"Value\":[\"ISO_IR 192\"]},\"00080008\":{\"vr\":\"CS\",\"Value\":[\"DERIVED\",\"SECONDARY\",\"OTHER\"]},\"00080016\":{\"vr\":\"UI\",\"Value\":[\"1.2.840.10008.5.1.4.1.1.7\"]},\"00080018\":{\"vr\":\"UI\",\"Value\":[\"1.2.826.0.1.3680043.8.498.47359123102728459884412887463296905395\"]},\"00080020\":{\"vr\":\"DA\",\"Value\":[\"20200922\"]},\"00080023\":{\"vr\":\"DA\"},\"0008002A\":{\"vr\":\"DT\"},\"00080030\":{\"vr\":\"TM\",\"Value\":[\"120000\"]},\"00080033\":{\"vr\":\"TM\"},\"00080050\":{\"vr\":\"SH\"},\"00080060\":{\"vr\":\"CS\",\"Value\":[\"OT\"]},\"00080064\":{\"vr\":\"CS\",\"Value\":[\"SYN\"]},\"00080090\":{\"vr\":\"PN\",\"Value\":[{\"Alphabetic\":\"Doctor Doc\"}]},\"00100010\":{\"vr\":\"PN\",\"Value\":[{\"Alphabetic\":\"Anony Mous\"}]},\"00100020\":{\"vr\":\"LO\",\"Value\":[\"ID1\"]},\"00100030\":{\"vr\":\"DA\"},\"00100040\":{\"vr\":\"CS\",\"Value\":[\"F\"]},\"00101010\":{\"vr\":\"AS\",\"Value\":[\"024Y\"]},\"00185100\":{\"vr\":\"CS\"},\"0020000D\":{\"vr\":\"UI\",\"Value\":[\"1.2.826.0.1.3680043.8.498.13230779778012324449356534479549187420\"]},\"0020000E\":{\"vr\":\"UI\",\"Value\":[\"1.2.826.0.1.3680043.8.498.45787841905473114233124723359129632652\"]},\"00200010\":{\"vr\":\"SH\",\"Value\":[\"1\"]},\"00200011\":{\"vr\":\"IS\",\"Value\":[1]},\"00200013\":{\"vr\":\"IS\",\"Value\":[1]},\"00200020\":{\"vr\":\"CS\"},\"00200060\":{\"vr\":\"CS\"},\"00204000\":{\"vr\":\"LT\",\"Value\":[\"Fake DICOM - Red Triangle\"]},\"00280002\":{\"vr\":\"US\",\"Value\":[3]},\"00280004\":{\"vr\":\"CS\",\"Value\":[\"RGB\"]},\"00280006\":{\"vr\":\"US\",\"Value\":[0]},\"00280010\":{\"vr\":\"US\",\"Value\":[979]},\"00280011\":{\"vr\":\"US\",\"Value\":[985]},\"00280030\":{\"vr\":\"DS\",\"Value\":[1.0,1.0]},\"00280100\":{\"vr\":\"US\",\"Value\":[8]},\"00280101\":{\"vr\":\"US\",\"Value\":[8]},\"00280102\":{\"vr\":\"US\",\"Value\":[7]},\"00280103\":{\"vr\":\"US\",\"Value\":[0]},\"00280106\":{\"vr\":\"US\",\"Value\":[0]},\"00280107\":{\"vr\":\"US\",\"Value\":[255]}}},{\"sequence\":2,\"partitionName\":\"Microsoft.Default\",\"studyInstanceUid\":\"1.2.826.0.1.3680043.8.498.13230779778012324449356534479549187420\",\"seriesInstanceUid\":\"1.2.826.0.1.3680043.8.498.45787841905473114233124723359129632652\",\"sopInstanceUid\":\"1.2.826.0.1.3680043.8.498.12714725698140337137334606354172323212\",\"action\":\"Create\",\"timestamp\":\"2023-02-21T07:55:28.3614398+00:00\",\"state\":\"Current\",\"metadata\":{\"00080005\":{\"vr\":\"CS\",\"Value\":[\"ISO_IR 192\"]},\"00080008\":{\"vr\":\"CS\",\"Value\":[\"DERIVED\",\"SECONDARY\",\"OTHER\"]},\"00080016\":{\"vr\":\"UI\",\"Value\":[\"1.2.840.10008.5.1.4.1.1.7\"]},\"00080018\":{\"vr\":\"UI\",\"Value\":[\"1.2.826.0.1.3680043.8.498.12714725698140337137334606354172323212\"]},\"00080020\":{\"vr\":\"DA\",\"Value\":[\"20200922\"]},\"00080023\":{\"vr\":\"DA\"},\"0008002A\":{\"vr\":\"DT\"},\"00080030\":{\"vr\":\"TM\",\"Value\":[\"120000\"]},\"00080033\":{\"vr\":\"TM\"},\"00080050\":{\"vr\":\"SH\"},\"00080060\":{\"vr\":\"CS\",\"Value\":[\"OT\"]},\"00080064\":{\"vr\":\"CS\",\"Value\":[\"SYN\"]},\"00080090\":{\"vr\":\"PN\",\"Value\":[{\"Alphabetic\":\"Doctor Doc\"}]},\"00100010\":{\"vr\":\"PN\",\"Value\":[{\"Alphabetic\":\"Anony Mous\"}]},\"00100020\":{\"vr\":\"LO\",\"Value\":[\"ID1\"]},\"00100030\":{\"vr\":\"DA\"},\"00100040\":{\"vr\":\"CS\",\"Value\":[\"F\"]},\"00101010\":{\"vr\":\"AS\",\"Value\":[\"024Y\"]},\"00185100\":{\"vr\":\"CS\"},\"0020000D\":{\"vr\":\"UI\",\"Value\":[\"1.2.826.0.1.3680043.8.498.13230779778012324449356534479549187420\"]},\"0020000E\":{\"vr\":\"UI\",\"Value\":[\"1.2.826.0.1.3680043.8.498.45787841905473114233124723359129632652\"]},\"00200010\":{\"vr\":\"SH\",\"Value\":[\"1\"]},\"00200011\":{\"vr\":\"IS\",\"Value\":[1]},\"00200013\":{\"vr\":\"IS\",\"Value\":[2]},\"00200020\":{\"vr\":\"CS\"},\"00200060\":{\"vr\":\"CS\"},\"00204000\":{\"vr\":\"LT\",\"Value\":[\"Fake DICOM - Green Square\"]},\"00280002\":{\"vr\":\"US\",\"Value\":[3]},\"00280004\":{\"vr\":\"CS\",\"Value\":[\"RGB\"]},\"00280006\":{\"vr\":\"US\",\"Value\":[0]},\"00280010\":{\"vr\":\"US\",\"Value\":[979]},\"00280011\":{\"vr\":\"US\",\"Value\":[985]},\"00280030\":{\"vr\":\"DS\",\"Value\":[1.0,1.0]},\"00280100\":{\"vr\":\"US\",\"Value\":[8]},\"00280101\":{\"vr\":\"US\",\"Value\":[8]},\"00280102\":{\"vr\":\"US\",\"Value\":[7]},\"00280103\":{\"vr\":\"US\",\"Value\":[0]},\"00280106\":{\"vr\":\"US\",\"Value\":[0]},\"00280107\":{\"vr\":\"US\",\"Value\":[255]}}},{\"sequence\":3,\"partitionName\":\"Microsoft.Default\",\"studyInstanceUid\":\"1.2.840.113619.2.81.290.1.33656.20140218.202536\",\"seriesInstanceUid\":\"1.2.840.113619.2.81.290.1.33656.3.20140218.202838\",\"sopInstanceUid\":\"1.3.6.1.4.1.9590.100.1.2.407657022912537111628176213871706093007\",\"action\":\"Create\",\"timestamp\":\"2023-02-23T07:34:57.8143808+00:00\",\"state\":\"Deleted\"},{\"sequence\":4,\"partitionName\":\"Microsoft.Default\",\"studyInstanceUid\":\"1.2.840.113619.2.81.290.1.33656.20140218.202536\",\"seriesInstanceUid\":\"1.2.840.113619.2.81.290.1.33656.3.20140218.202838\",\"sopInstanceUid\":\"1.3.6.1.4.1.9590.100.1.2.407657022912537111628176213871706093007\",\"action\":\"Delete\",\"timestamp\":\"2023-02-23T08:29:05.0429151+00:00\",\"state\":\"Deleted\"},{\"sequence\":5,\"partitionName\":\"Microsoft.Default\",\"studyInstanceUid\":\"1.2.752.24.7.2743982252.8392159\",\"seriesInstanceUid\":\"1.3.46.670589.30.39.0.1.966169786532.1636120462888.1\",\"sopInstanceUid\":\"1.3.46.670589.30.966169786531.4276.1636120464716\",\"action\":\"Create\",\"timestamp\":\"2023-02-23T08:59:58.8854459+00:00\",\"state\":\"Current\",\"metadata\":{\"00080008\":{\"vr\":\"CS\",\"Value\":[\"ORIGINAL\",\"PRIMARY\",null]},\"00080016\":{\"vr\":\"UI\",\"Value\":[\"1.2.840.10008.5.1.4.1.1.1.1\"]},\"00080018\":{\"vr\":\"UI\",\"Value\":[\"1.3.46.670589.30.966169786531.4276.1636120464716\"]},\"00080020\":{\"vr\":\"DA\",\"Value\":[\"20211105\"]},\"00080021\":{\"vr\":\"DA\",\"Value\":[\"20211105\"]},\"00080022\":{\"vr\":\"DA\",\"Value\":[\"20211105\"]},\"00080023\":{\"vr\":\"DA\",\"Value\":[\"20211105\"]},\"00080030\":{\"vr\":\"TM\",\"Value\":[\"135242\"]},\"00080031\":{\"vr\":\"TM\",\"Value\":[\"135405.000000\"]},\"00080032\":{\"vr\":\"TM\",\"Value\":[\"135406\"]},\"00080033\":{\"vr\":\"TM\",\"Value\":[\"135406\"]},\"00080050\":{\"vr\":\"SH\",\"Value\":[\"OPA15249631\"]},\"00080060\":{\"vr\":\"CS\",\"Value\":[\"DX\"]},\"00080068\":{\"vr\":\"CS\",\"Value\":[\"FOR PRESENTATION\"]},\"00080070\":{\"vr\":\"LO\",\"Value\":[\"Philips\"]},\"00080080\":{\"vr\":\"LO\",\"Value\":[\"Orthopedic Physcian Associates\"]},\"00080081\":{\"vr\":\"ST\",\"Value\":[\" 601 Broadway SEATTLE US\"]},\"00080090\":{\"vr\":\"PN\",\"Value\":[{\"Alphabetic\":\"McAdam^Michael^K^^\"}]},\"00081010\":{\"vr\":\"SH\",\"Value\":[\"DiDiEleva01\"]},\"00081030\":{\"vr\":\"LO\",\"Value\":[\"Knee Standing\"]},\"00081032\":{\"vr\":\"SQ\"},\"0008103E\":{\"vr\":\"LO\",\"Value\":[\"PA Tunnel\"]},\"00081040\":{\"vr\":\"LO\",\"Value\":[\"Radiology\"]},\"00081050\":{\"vr\":\"PN\"},\"00081070\":{\"vr\":\"PN\",\"Value\":[{\"Alphabetic\":\"user\"}]},\"00081090\":{\"vr\":\"LO\",\"Value\":[\"DigitalDiagnost\"]},\"00081111\":{\"vr\":\"SQ\",\"Value\":[{\"00081150\":{\"vr\":\"UI\",\"Value\":[\"1.2.840.10008.3.1.2.3.3\"]},\"00081155\":{\"vr\":\"UI\",\"Value\":[\"1.3.46.670589.30.39.0.1.966169786532.1636120256134.1\"]}}]},\"00082218\":{\"vr\":\"SQ\"},\"00083010\":{\"vr\":\"UI\",\"Value\":[\"1.3.46.670589.30.39.0.1.966169786532.1636120442645.1\"]},\"00090010\":{\"vr\":\"LO\",\"Value\":[\"SECTRA_Ident_01\"]},\"00091001\":{\"vr\":\"LO\",\"Value\":[\"OPA15249631\"]},\"00091002\":{\"vr\":\"LO\",\"Value\":[\"KNEE\"]},\"00100010\":{\"vr\":\"PN\",\"Value\":[{\"Alphabetic\":\"Tarapov^Ivan^^^\"}]},\"00100020\":{\"vr\":\"LO\",\"Value\":[\"OPA126979\"]},\"00100021\":{\"vr\":\"LO\",\"Value\":[\"63036410-3E0E-4042-A7A8-7C869C269928\"]},\"00100030\":{\"vr\":\"DA\",\"Value\":[\"19821004\"]},\"00100040\":{\"vr\":\"CS\",\"Value\":[\"M\"]},\"00101000\":{\"vr\":\"LO\"},\"00101010\":{\"vr\":\"AS\",\"Value\":[\"039Y\"]},\"00101020\":{\"vr\":\"DS\",\"Value\":[0]},\"00101030\":{\"vr\":\"DS\",\"Value\":[0]},\"00102000\":{\"vr\":\"LO\"},\"00102110\":{\"vr\":\"LO\"},\"00102160\":{\"vr\":\"SH\"},\"001021B0\":{\"vr\":\"LT\",\"Value\":[null]},\"001021C0\":{\"vr\":\"US\",\"Value\":[4]},\"00104000\":{\"vr\":\"LT\",\"Value\":[null]},\"00180015\":{\"vr\":\"CS\",\"Value\":[\"KNEE\"]},\"00180060\":{\"vr\":\"DS\",\"Value\":[66]},\"00181000\":{\"vr\":\"LO\",\"Value\":[\"966169786532\"]},\"00181020\":{\"vr\":\"LO\",\"Value\":[\"4.2.6\"]},\"00181030\":{\"vr\":\"LO\",\"Value\":[\"Knee Standing\"]},\"00181050\":{\"vr\":\"DS\",\"Value\":[0.148]},\"00181114\":{\"vr\":\"DS\",\"Value\":[0.99009900990099]},\"00181150\":{\"vr\":\"IS\",\"Value\":[16]},\"00181151\":{\"vr\":\"IS\",\"Value\":[380]},\"00181152\":{\"vr\":\"IS\",\"Value\":[6]},\"00181153\":{\"vr\":\"IS\",\"Value\":[6000]},\"0018115E\":{\"vr\":\"DS\",\"Value\":[4.194]},\"00181164\":{\"vr\":\"DS\",\"Value\":[0.148,0.148]},\"00181166\":{\"vr\":\"CS\",\"Value\":[\"RECIPROCATING\"]},\"00181400\":{\"vr\":\"LO\",\"Value\":[\"UNIQUE: S:200 L:4.0 FB d:1.1 g:2 sb:2.8 eq:0 nr:0 dc:3 bal:0....\"]},\"00181405\":{\"vr\":\"IS\",\"Value\":[70]},\"00181411\":{\"vr\":\"DS\",\"Value\":[70]},\"00181508\":{\"vr\":\"CS\",\"Value\":[\"NONE\"]},\"00181700\":{\"vr\":\"CS\",\"Value\":[\"RECTANGULAR\"]},\"00181702\":{\"vr\":\"IS\",\"Value\":[0]},\"00181704\":{\"vr\":\"IS\",\"Value\":[2642]},\"00181706\":{\"vr\":\"IS\",\"Value\":[0]},\"00181708\":{\"vr\":\"IS\",\"Value\":[2873]},\"00185101\":{\"vr\":\"CS\"},\"00187001\":{\"vr\":\"DS\",\"Value\":[30.5]},\"00187004\":{\"vr\":\"CS\",\"Value\":[\"SCINTILLATOR\"]},\"00187008\":{\"vr\":\"LT\",\"Value\":[\"SingleShot1s\"]},\"0018700A\":{\"vr\":\"SH\",\"Value\":[\"SN190930\"]},\"0018700C\":{\"vr\":\"DA\",\"Value\":[\"20210803\"]},\"0018700E\":{\"vr\":\"TM\",\"Value\":[\"162331\"]},\"00187012\":{\"vr\":\"DS\",\"Value\":[80405.384]},\"0018702A\":{\"vr\":\"LO\",\"Value\":[\"TRIXELL\"]},\"0018702B\":{\"vr\":\"LO\",\"Value\":[\"PIXIUM4343RCE\"]},\"00187030\":{\"vr\":\"DS\",\"Value\":[0,0]},\"00187032\":{\"vr\":\"DS\",\"Value\":[0]},\"00187034\":{\"vr\":\"CS\",\"Value\":[\"YES\"]},\"00187060\":{\"vr\":\"CS\",\"Value\":[\"MANUAL\"]},\"00187062\":{\"vr\":\"LT\",\"Value\":[\"0\"]},\"00188150\":{\"vr\":\"DS\",\"Value\":[15800]},\"00188151\":{\"vr\":\"DS\",\"Value\":[379600]},\"0020000D\":{\"vr\":\"UI\",\"Value\":[\"1.2.752.24.7.2743982252.8392159\"]},\"0020000E\":{\"vr\":\"UI\",\"Value\":[\"1.3.46.670589.30.39.0.1.966169786532.1636120462888.1\"]},\"00200010\":{\"vr\":\"SH\",\"Value\":[\"KNEE\"]},\"00200011\":{\"vr\":\"IS\",\"Value\":[2]},\"00200013\":{\"vr\":\"IS\",\"Value\":[1]},\"00200020\":{\"vr\":\"CS\",\"Value\":[\"L\",\"F\"]},\"00200062\":{\"vr\":\"CS\",\"Value\":[\"B\"]},\"00280002\":{\"vr\":\"US\",\"Value\":[1]},\"00280004\":{\"vr\":\"CS\",\"Value\":[\"MONOCHROME2\"]},\"00280010\":{\"vr\":\"US\",\"Value\":[2874]},\"00280011\":{\"vr\":\"US\",\"Value\":[2643]},\"00280030\":{\"vr\":\"DS\",\"Value\":[0.14948000013828,0.14948000013828]},\"00280100\":{\"vr\":\"US\",\"Value\":[16]},\"00280101\":{\"vr\":\"US\",\"Value\":[12]},\"00280102\":{\"vr\":\"US\",\"Value\":[11]},\"00280103\":{\"vr\":\"US\",\"Value\":[0]},\"00280300\":{\"vr\":\"CS\",\"Value\":[\"NO\"]},\"00280301\":{\"vr\":\"CS\",\"Value\":[\"NO\"]},\"00281040\":{\"vr\":\"CS\",\"Value\":[\"LOG\"]},\"00281041\":{\"vr\":\"SS\",\"Value\":[-1]},\"00281050\":{\"vr\":\"DS\",\"Value\":[2048]},\"00281051\":{\"vr\":\"DS\",\"Value\":[4096]},\"00282110\":{\"vr\":\"CS\",\"Value\":[\"00\"]},\"00321032\":{\"vr\":\"PN\"},\"00321033\":{\"vr\":\"LO\"},\"00321060\":{\"vr\":\"LO\"},\"00321064\":{\"vr\":\"SQ\"},\"00380050\":{\"vr\":\"LO\"},\"00380500\":{\"vr\":\"LO\"},\"00400241\":{\"vr\":\"AE\",\"Value\":[\"Eleva\"]},\"00400244\":{\"vr\":\"DA\",\"Value\":[\"20211105\"]},\"00400245\":{\"vr\":\"TM\",\"Value\":[\"135242.309000\"]},\"00400252\":{\"vr\":\"CS\"},\"00400253\":{\"vr\":\"SH\",\"Value\":[\"E-KVMFR98I.1\"]},\"00400254\":{\"vr\":\"LO\",\"Value\":[\"Knee Standing\"]},\"00400275\":{\"vr\":\"SQ\",\"Value\":[{\"00400007\":{\"vr\":\"LO\"},\"00400008\":{\"vr\":\"SQ\",\"Value\":[{\"00080100\":{\"vr\":\"SH\"},\"00080102\":{\"vr\":\"SH\"},\"00080104\":{\"vr\":\"LO\"}}]},\"00400009\":{\"vr\":\"SH\",\"Value\":[\"0\"]},\"00401001\":{\"vr\":\"SH\",\"Value\":[\"0\"]}}]},\"00400301\":{\"vr\":\"US\",\"Value\":[2]},\"00400302\":{\"vr\":\"US\",\"Value\":[0]},\"00400320\":{\"vr\":\"SQ\"},\"00400321\":{\"vr\":\"SQ\"},\"00400555\":{\"vr\":\"SQ\"},\"00401001\":{\"vr\":\"SH\",\"Value\":[\"0\"]},\"00401002\":{\"vr\":\"LO\"},\"00401003\":{\"vr\":\"SH\"},\"00401004\":{\"vr\":\"LO\"},\"00401010\":{\"vr\":\"PN\"},\"00401400\":{\"vr\":\"LT\",\"Value\":[null]},\"00402001\":{\"vr\":\"LO\"},\"00402004\":{\"vr\":\"DA\"},\"00402400\":{\"vr\":\"LT\",\"Value\":[null]},\"00408302\":{\"vr\":\"DS\",\"Value\":[1.637]},\"20010010\":{\"vr\":\"LO\",\"Value\":[\"Philips Imaging DD 001\"]},\"20010011\":{\"vr\":\"LO\",\"Value\":[\"Philips Imaging DD 002\"]},\"20011063\":{\"vr\":\"CS\",\"Value\":[\"ELSEWHERE\"]},\"200110F3\":{\"vr\":\"CS\",\"Value\":[\"YES\"]},\"2001116C\":{\"vr\":\"LO\",\"Value\":[\"E-KVMFR98I.1\"]},\"2001116D\":{\"vr\":\"LO\",\"Value\":[\"RIS\"]},\"200B0010\":{\"vr\":\"LO\",\"Value\":[\"Philips RAD Imaging DD 001\"]},\"200B0070\":{\"vr\":\"LO\",\"Value\":[\"Philips RAD Imaging DD 097\"]},\"200B0072\":{\"vr\":\"LO\",\"Value\":[\"Philips RAD Imaging DD 099\"]},\"200B1000\":{\"vr\":\"PN\"},\"200B1001\":{\"vr\":\"US\",\"Value\":[3]},\"200B1002\":{\"vr\":\"US\",\"Value\":[7]},\"200B1005\":{\"vr\":\"IS\",\"Value\":[2]},\"200B1011\":{\"vr\":\"LO\",\"Value\":[\"PA Tunnel\"]},\"200B1027\":{\"vr\":\"DT\",\"Value\":[\"30000101000000.000000\"]},\"200B1028\":{\"vr\":\"DS\",\"Value\":[5.903]},\"200B1029\":{\"vr\":\"DS\",\"Value\":[0]},\"200B102A\":{\"vr\":\"UL\",\"Value\":[1637]},\"200B102B\":{\"vr\":\"DA\",\"Value\":[\"20211105\"]},\"200B102C\":{\"vr\":\"TM\",\"Value\":[\"134500\"]},\"200B102E\":{\"vr\":\"US\",\"Value\":[700]},\"200B102F\":{\"vr\":\"UL\",\"Value\":[1637]},\"200B1030\":{\"vr\":\"UL\",\"Value\":[0]},\"200B103B\":{\"vr\":\"LO\",\"Value\":[\"Knee Standing\"]},\"200B1041\":{\"vr\":\"SH\",\"Value\":[\"TRUE\"]},\"200B1042\":{\"vr\":\"UI\",\"Value\":[\"1.3.46.670589.30.39.0.1.966169786532.1636120256134.1\"]},\"200B1047\":{\"vr\":\"DA\",\"Value\":[\"20211105\"]},\"200B1048\":{\"vr\":\"SH\",\"Value\":[\"FALSE\"]},\"200B104C\":{\"vr\":\"SH\",\"Value\":[\"COMPLETED\"]},\"200B104F\":{\"vr\":\"DT\",\"Value\":[\"20211105135406.112000\"]},\"200B1052\":{\"vr\":\"CS\",\"Value\":[\"NORMAL\"]},\"200B7000\":{\"vr\":\"ST\",\"Value\":[\"file:/G:/Images/gxrOrth782102289084472592.gip\"]},\"200B7060\":{\"vr\":\"LT\",\"Value\":[\"ACQUISITION_81313_105266\"]},\"200B7063\":{\"vr\":\"LT\",\"Value\":[\"UNIQUE: S:200 L:4.0 FB d:1.1 g:2 sb:2.8 eq:0 nr:0 dc:3 bal:0.7 wcl:3 scl:7 sbo:0 n:2 2 0.8 s:0 nr:0 0025025 2.16 vlf:NONE\"]},\"200B7074\":{\"vr\":\"IS\",\"Value\":[14]},\"200B7076\":{\"vr\":\"SH\",\"Value\":[\"standard\"]},\"200B7079\":{\"vr\":\"IS\",\"Value\":[6000]},\"200B707A\":{\"vr\":\"IS\",\"Value\":[5]},\"200B707E\":{\"vr\":\"UI\",\"Value\":[\"1.3.46.670589.30.39.0.1.966169786532.1636120463000.1\"]},\"200B7088\":{\"vr\":\"CS\",\"Value\":[\"TRUE\"]},\"200B7089\":{\"vr\":\"LT\",\"Value\":[\"DXIMAGE_153463_153490\"]},\"200B7096\":{\"vr\":\"SH\",\"Value\":[\"Wall\"]},\"200B709F\":{\"vr\":\"SQ\",\"Value\":[{\"00080016\":{\"vr\":\"UI\",\"Value\":[\"1.2.840.10008.3.1.2.3.3\"]},\"00080018\":{\"vr\":\"UI\",\"Value\":[\"1.3.46.670589.30.39.0.1.966169786532.1636120256134.1\"]}}]},\"200B70A4\":{\"vr\":\"AS\",\"Value\":[\"039Y\"]},\"200B70A5\":{\"vr\":\"DS\",\"Value\":[30.7]},\"200B70AA\":{\"vr\":\"SQ\",\"Value\":[{\"00080018\":{\"vr\":\"UI\",\"Value\":[\"1.3.46.670589.30.39.0.1.966169786532.1636120446601.1\"]},\"200B0070\":{\"vr\":\"LO\",\"Value\":[\"Philips RAD Imaging DD 097\"]},\"200B70AB\":{\"vr\":\"LO\",\"Value\":[\"DXForPresentation\"]},\"200B70AC\":{\"vr\":\"SL\",\"Value\":[1979524388]}}]},\"200B70B7\":{\"vr\":\"US\",\"Value\":[0]},\"200B70B9\":{\"vr\":\"SH\",\"Value\":[\"TRUE\"]},\"200B70BA\":{\"vr\":\"SH\",\"Value\":[\"SMALL\"]},\"200B7236\":{\"vr\":\"CS\",\"Value\":[\"NO\"]},\"200B7237\":{\"vr\":\"CS\",\"Value\":[\"NO\"]}}},{\"sequence\":6,\"partitionName\":\"Microsoft.Default\",\"studyInstanceUid\":\"1.2.752.24.7.2743982252.8392159\",\"seriesInstanceUid\":\"1.3.46.670589.30.39.0.1.966169786532.1636120588647.1\",\"sopInstanceUid\":\"1.3.46.670589.30.966169786531.4276.1636120590945\",\"action\":\"Create\",\"timestamp\":\"2023-02-23T08:59:59.1198225+00:00\",\"state\":\"Current\",\"metadata\":{\"00080008\":{\"vr\":\"CS\",\"Value\":[\"ORIGINAL\",\"PRIMARY\",null]},\"00080016\":{\"vr\":\"UI\",\"Value\":[\"1.2.840.10008.5.1.4.1.1.1.1\"]},\"00080018\":{\"vr\":\"UI\",\"Value\":[\"1.3.46.670589.30.966169786531.4276.1636120590945\"]},\"00080020\":{\"vr\":\"DA\",\"Value\":[\"20211105\"]},\"00080021\":{\"vr\":\"DA\",\"Value\":[\"20211105\"]},\"00080022\":{\"vr\":\"DA\",\"Value\":[\"20211105\"]},\"00080023\":{\"vr\":\"DA\",\"Value\":[\"20211105\"]},\"00080030\":{\"vr\":\"TM\",\"Value\":[\"135242\"]},\"00080031\":{\"vr\":\"TM\",\"Value\":[\"135617.000000\"]},\"00080032\":{\"vr\":\"TM\",\"Value\":[\"135617\"]},\"00080033\":{\"vr\":\"TM\",\"Value\":[\"135617\"]},\"00080050\":{\"vr\":\"SH\",\"Value\":[\"OPA15249631\"]},\"00080060\":{\"vr\":\"CS\",\"Value\":[\"DX\"]},\"00080068\":{\"vr\":\"CS\",\"Value\":[\"FOR PRESENTATION\"]},\"00080070\":{\"vr\":\"LO\",\"Value\":[\"Philips\"]},\"00080080\":{\"vr\":\"LO\",\"Value\":[\"Orthopedic Physcian Associates\"]},\"00080081\":{\"vr\":\"ST\",\"Value\":[\" 601 Broadway SEATTLE US\"]},\"00080090\":{\"vr\":\"PN\",\"Value\":[{\"Alphabetic\":\"McAdam^Michael^K^^\"}]},\"00081010\":{\"vr\":\"SH\",\"Value\":[\"DiDiEleva01\"]},\"00081030\":{\"vr\":\"LO\",\"Value\":[\"Knee Standing\"]},\"00081032\":{\"vr\":\"SQ\"},\"0008103E\":{\"vr\":\"LO\",\"Value\":[\"Lateral\"]},\"00081040\":{\"vr\":\"LO\",\"Value\":[\"Radiology\"]},\"00081050\":{\"vr\":\"PN\"},\"00081070\":{\"vr\":\"PN\",\"Value\":[{\"Alphabetic\":\"user\"}]},\"00081090\":{\"vr\":\"LO\",\"Value\":[\"DigitalDiagnost\"]},\"00081111\":{\"vr\":\"SQ\",\"Value\":[{\"00081150\":{\"vr\":\"UI\",\"Value\":[\"1.2.840.10008.3.1.2.3.3\"]},\"00081155\":{\"vr\":\"UI\",\"Value\":[\"1.3.46.670589.30.39.0.1.966169786532.1636120256134.1\"]}}]},\"00082218\":{\"vr\":\"SQ\"},\"00083010\":{\"vr\":\"UI\",\"Value\":[\"1.3.46.670589.30.39.0.1.966169786532.1636120573135.1\"]},\"00090010\":{\"vr\":\"LO\",\"Value\":[\"SECTRA_Ident_01\"]},\"00091001\":{\"vr\":\"LO\",\"Value\":[\"OPA15249631\"]},\"00091002\":{\"vr\":\"LO\",\"Value\":[\"KNEE\"]},\"00100010\":{\"vr\":\"PN\",\"Value\":[{\"Alphabetic\":\"Tarapov^Ivan^^^\"}]},\"00100020\":{\"vr\":\"LO\",\"Value\":[\"OPA126979\"]},\"00100021\":{\"vr\":\"LO\",\"Value\":[\"63036410-3E0E-4042-A7A8-7C869C269928\"]},\"00100030\":{\"vr\":\"DA\",\"Value\":[\"19821004\"]},\"00100040\":{\"vr\":\"CS\",\"Value\":[\"M\"]},\"00101000\":{\"vr\":\"LO\"},\"00101010\":{\"vr\":\"AS\",\"Value\":[\"039Y\"]},\"00101020\":{\"vr\":\"DS\",\"Value\":[0]},\"00101030\":{\"vr\":\"DS\",\"Value\":[0]},\"00102000\":{\"vr\":\"LO\"},\"00102110\":{\"vr\":\"LO\"},\"00102160\":{\"vr\":\"SH\"},\"001021B0\":{\"vr\":\"LT\",\"Value\":[null]},\"001021C0\":{\"vr\":\"US\",\"Value\":[4]},\"00104000\":{\"vr\":\"LT\",\"Value\":[null]},\"00180015\":{\"vr\":\"CS\",\"Value\":[\"KNEE\"]},\"00180060\":{\"vr\":\"DS\",\"Value\":[66]},\"00181000\":{\"vr\":\"LO\",\"Value\":[\"966169786532\"]},\"00181020\":{\"vr\":\"LO\",\"Value\":[\"4.2.6\"]},\"00181030\":{\"vr\":\"LO\",\"Value\":[\"Knee Standing\"]},\"00181050\":{\"vr\":\"DS\",\"Value\":[0.148]},\"00181114\":{\"vr\":\"DS\",\"Value\":[0.99009900990099]},\"00181150\":{\"vr\":\"IS\",\"Value\":[16]},\"00181151\":{\"vr\":\"IS\",\"Value\":[385]},\"00181152\":{\"vr\":\"IS\",\"Value\":[6]},\"00181153\":{\"vr\":\"IS\",\"Value\":[6000]},\"0018115E\":{\"vr\":\"DS\",\"Value\":[3.191]},\"00181164\":{\"vr\":\"DS\",\"Value\":[0.148,0.148]},\"00181166\":{\"vr\":\"CS\",\"Value\":[\"RECIPROCATING\"]},\"00181400\":{\"vr\":\"LO\",\"Value\":[\"UNIQUE: S:200 L:4.0 FB d:1.1 g:2 sb:2.8 eq:0 nr:0 dc:3 bal:0....\"]},\"00181405\":{\"vr\":\"IS\",\"Value\":[166]},\"00181411\":{\"vr\":\"DS\",\"Value\":[166]},\"00181508\":{\"vr\":\"CS\",\"Value\":[\"NONE\"]},\"00181700\":{\"vr\":\"CS\",\"Value\":[\"RECTANGULAR\"]},\"00181702\":{\"vr\":\"IS\",\"Value\":[0]},\"00181704\":{\"vr\":\"IS\",\"Value\":[1971]},\"00181706\":{\"vr\":\"IS\",\"Value\":[0]},\"00181708\":{\"vr\":\"IS\",\"Value\":[2872]},\"00185101\":{\"vr\":\"CS\"},\"00187001\":{\"vr\":\"DS\",\"Value\":[30.5]},\"00187004\":{\"vr\":\"CS\",\"Value\":[\"SCINTILLATOR\"]},\"00187008\":{\"vr\":\"LT\",\"Value\":[\"SingleShot1s\"]},\"0018700A\":{\"vr\":\"SH\",\"Value\":[\"SN190930\"]},\"0018700C\":{\"vr\":\"DA\",\"Value\":[\"20210803\"]},\"0018700E\":{\"vr\":\"TM\",\"Value\":[\"162331\"]},\"00187012\":{\"vr\":\"DS\",\"Value\":[67203.992]},\"0018702A\":{\"vr\":\"LO\",\"Value\":[\"TRIXELL\"]},\"0018702B\":{\"vr\":\"LO\",\"Value\":[\"PIXIUM4343RCE\"]},\"00187030\":{\"vr\":\"DS\",\"Value\":[0,0]},\"00187032\":{\"vr\":\"DS\",\"Value\":[0]},\"00187034\":{\"vr\":\"CS\",\"Value\":[\"NO\"]},\"00187060\":{\"vr\":\"CS\",\"Value\":[\"MANUAL\"]},\"00187062\":{\"vr\":\"LT\",\"Value\":[\"0\"]},\"00188150\":{\"vr\":\"DS\",\"Value\":[15600]},\"00188151\":{\"vr\":\"DS\",\"Value\":[384500]},\"0020000D\":{\"vr\":\"UI\",\"Value\":[\"1.2.752.24.7.2743982252.8392159\"]},\"0020000E\":{\"vr\":\"UI\",\"Value\":[\"1.3.46.670589.30.39.0.1.966169786532.1636120588647.1\"]},\"00200010\":{\"vr\":\"SH\",\"Value\":[\"KNEE\"]},\"00200011\":{\"vr\":\"IS\",\"Value\":[4]},\"00200013\":{\"vr\":\"IS\",\"Value\":[1]},\"00200020\":{\"vr\":\"CS\",\"Value\":[\"A\",\"F\"]},\"00200062\":{\"vr\":\"CS\",\"Value\":[\"B\"]},\"00280002\":{\"vr\":\"US\",\"Value\":[1]},\"00280004\":{\"vr\":\"CS\",\"Value\":[\"MONOCHROME2\"]},\"00280010\":{\"vr\":\"US\",\"Value\":[2873]},\"00280011\":{\"vr\":\"US\",\"Value\":[1972]},\"00280030\":{\"vr\":\"DS\",\"Value\":[0.14948000013828,0.14948000013828]},\"00280100\":{\"vr\":\"US\",\"Value\":[16]},\"00280101\":{\"vr\":\"US\",\"Value\":[12]},\"00280102\":{\"vr\":\"US\",\"Value\":[11]},\"00280103\":{\"vr\":\"US\",\"Value\":[0]},\"00280300\":{\"vr\":\"CS\",\"Value\":[\"NO\"]},\"00280301\":{\"vr\":\"CS\",\"Value\":[\"NO\"]},\"00281040\":{\"vr\":\"CS\",\"Value\":[\"LOG\"]},\"00281041\":{\"vr\":\"SS\",\"Value\":[-1]},\"00281050\":{\"vr\":\"DS\",\"Value\":[2048]},\"00281051\":{\"vr\":\"DS\",\"Value\":[4096]},\"00282110\":{\"vr\":\"CS\",\"Value\":[\"00\"]},\"00321032\":{\"vr\":\"PN\"},\"00321033\":{\"vr\":\"LO\"},\"00321060\":{\"vr\":\"LO\"},\"00321064\":{\"vr\":\"SQ\"},\"00380050\":{\"vr\":\"LO\"},\"00380500\":{\"vr\":\"LO\"},\"00400241\":{\"vr\":\"AE\",\"Value\":[\"Eleva\"]},\"00400244\":{\"vr\":\"DA\",\"Value\":[\"20211105\"]},\"00400245\":{\"vr\":\"TM\",\"Value\":[\"135242.309000\"]},\"00400250\":{\"vr\":\"DA\",\"Value\":[\"20211105\"]},\"00400251\":{\"vr\":\"TM\",\"Value\":[\"135628.531000\"]},\"00400252\":{\"vr\":\"CS\"},\"00400253\":{\"vr\":\"SH\",\"Value\":[\"E-KVMFR98I.1\"]},\"00400254\":{\"vr\":\"LO\",\"Value\":[\"Knee Standing\"]},\"00400275\":{\"vr\":\"SQ\",\"Value\":[{\"00400007\":{\"vr\":\"LO\"},\"00400008\":{\"vr\":\"SQ\",\"Value\":[{\"00080100\":{\"vr\":\"SH\"},\"00080102\":{\"vr\":\"SH\"},\"00080104\":{\"vr\":\"LO\"}}]},\"00400009\":{\"vr\":\"SH\",\"Value\":[\"0\"]},\"00401001\":{\"vr\":\"SH\",\"Value\":[\"0\"]}}]},\"00400301\":{\"vr\":\"US\",\"Value\":[4]},\"00400302\":{\"vr\":\"US\",\"Value\":[0]},\"00400320\":{\"vr\":\"SQ\"},\"00400321\":{\"vr\":\"SQ\"},\"00400555\":{\"vr\":\"SQ\"},\"00401001\":{\"vr\":\"SH\",\"Value\":[\"0\"]},\"00401002\":{\"vr\":\"LO\"},\"00401003\":{\"vr\":\"SH\"},\"00401004\":{\"vr\":\"LO\"},\"00401010\":{\"vr\":\"PN\"},\"00401400\":{\"vr\":\"LT\",\"Value\":[null]},\"00402001\":{\"vr\":\"LO\"},\"00402004\":{\"vr\":\"DA\"},\"00402400\":{\"vr\":\"LT\",\"Value\":[null]},\"00408302\":{\"vr\":\"DS\",\"Value\":[2.547]},\"20010010\":{\"vr\":\"LO\",\"Value\":[\"Philips Imaging DD 001\"]},\"20010011\":{\"vr\":\"LO\",\"Value\":[\"Philips Imaging DD 002\"]},\"20011063\":{\"vr\":\"CS\",\"Value\":[\"ELSEWHERE\"]},\"200110F3\":{\"vr\":\"CS\",\"Value\":[\"YES\"]},\"2001116C\":{\"vr\":\"LO\",\"Value\":[\"E-KVMFR98I.1\"]},\"2001116D\":{\"vr\":\"LO\",\"Value\":[\"RIS\"]},\"200B0010\":{\"vr\":\"LO\",\"Value\":[\"Philips RAD Imaging DD 001\"]},\"200B0070\":{\"vr\":\"LO\",\"Value\":[\"Philips RAD Imaging DD 097\"]},\"200B0072\":{\"vr\":\"LO\",\"Value\":[\"Philips RAD Imaging DD 099\"]},\"200B1000\":{\"vr\":\"PN\"},\"200B1001\":{\"vr\":\"US\",\"Value\":[4]},\"200B1002\":{\"vr\":\"US\",\"Value\":[7]},\"200B1005\":{\"vr\":\"IS\",\"Value\":[2]},\"200B1011\":{\"vr\":\"LO\",\"Value\":[\"Lateral\"]},\"200B1027\":{\"vr\":\"DT\",\"Value\":[\"30000101000000.000000\"]},\"200B1028\":{\"vr\":\"DS\",\"Value\":[13.736]},\"200B1029\":{\"vr\":\"DS\",\"Value\":[0]},\"200B102A\":{\"vr\":\"UL\",\"Value\":[2547]},\"200B102B\":{\"vr\":\"DA\",\"Value\":[\"20211105\"]},\"200B102C\":{\"vr\":\"TM\",\"Value\":[\"134500\"]},\"200B102E\":{\"vr\":\"US\",\"Value\":[1190]},\"200B102F\":{\"vr\":\"UL\",\"Value\":[2547]},\"200B1030\":{\"vr\":\"UL\",\"Value\":[0]},\"200B103B\":{\"vr\":\"LO\",\"Value\":[\"Knee Standing\"]},\"200B1041\":{\"vr\":\"SH\",\"Value\":[\"TRUE\"]},\"200B1042\":{\"vr\":\"UI\",\"Value\":[\"1.3.46.670589.30.39.0.1.966169786532.1636120256134.1\"]},\"200B1047\":{\"vr\":\"DA\",\"Value\":[\"20211105\"]},\"200B1048\":{\"vr\":\"SH\",\"Value\":[\"FALSE\"]},\"200B104C\":{\"vr\":\"SH\",\"Value\":[\"COMPLETED\"]},\"200B104F\":{\"vr\":\"DT\",\"Value\":[\"20211105135617.165000\"]},\"200B1052\":{\"vr\":\"CS\",\"Value\":[\"NORMAL\"]},\"200B7000\":{\"vr\":\"ST\",\"Value\":[\"file:/G:/Images/gxrOrth7622726147991762525.gip\"]},\"200B7060\":{\"vr\":\"LT\",\"Value\":[\"ACQUISITION_81315_105268\"]},\"200B7063\":{\"vr\":\"LT\",\"Value\":[\"UNIQUE: S:200 L:4.0 FB d:1.1 g:2 sb:2.8 eq:0 nr:0 dc:3 bal:0.7 wcl:3 scl:7 sbo:0 n:2 2 0.8 s:0 nr:0 0025025 2.54 vlf:NONE\"]},\"200B7074\":{\"vr\":\"IS\",\"Value\":[14]},\"200B7076\":{\"vr\":\"SH\",\"Value\":[\"standard\"]},\"200B7079\":{\"vr\":\"IS\",\"Value\":[6000]},\"200B707A\":{\"vr\":\"IS\",\"Value\":[5]},\"200B707E\":{\"vr\":\"UI\",\"Value\":[\"1.3.46.670589.30.39.0.1.966169786532.1636120588908.1\"]},\"200B7088\":{\"vr\":\"CS\",\"Value\":[\"TRUE\"]},\"200B7089\":{\"vr\":\"LT\",\"Value\":[\"DXIMAGE_153467_153494\"]},\"200B7096\":{\"vr\":\"SH\",\"Value\":[\"Wall\"]},\"200B709F\":{\"vr\":\"SQ\",\"Value\":[{\"00080016\":{\"vr\":\"UI\",\"Value\":[\"1.2.840.10008.3.1.2.3.3\"]},\"00080018\":{\"vr\":\"UI\",\"Value\":[\"1.3.46.670589.30.39.0.1.966169786532.1636120256134.1\"]}}]},\"200B70A4\":{\"vr\":\"AS\",\"Value\":[\"039Y\"]},\"200B70A5\":{\"vr\":\"DS\",\"Value\":[30.7]},\"200B70AA\":{\"vr\":\"SQ\",\"Value\":[{\"00080018\":{\"vr\":\"UI\",\"Value\":[\"1.3.46.670589.30.39.0.1.966169786532.1636120577300.1\"]},\"200B0070\":{\"vr\":\"LO\",\"Value\":[\"Philips RAD Imaging DD 097\"]},\"200B70AB\":{\"vr\":\"LO\",\"Value\":[\"DXForPresentation\"]},\"200B70AC\":{\"vr\":\"SL\",\"Value\":[-2037836326]}}]},\"200B70B7\":{\"vr\":\"US\",\"Value\":[0]},\"200B70B9\":{\"vr\":\"SH\",\"Value\":[\"TRUE\"]},\"200B70BA\":{\"vr\":\"SH\",\"Value\":[\"SMALL\"]},\"200B7236\":{\"vr\":\"CS\",\"Value\":[\"NO\"]},\"200B7237\":{\"vr\":\"CS\",\"Value\":[\"NO\"]}}},{\"sequence\":7,\"partitionName\":\"Microsoft.Default\",\"studyInstanceUid\":\"1.2.752.24.7.2743982252.8392159\",\"seriesInstanceUid\":\"1.3.46.670589.30.39.0.1.966169786532.1636120380383.1\",\"sopInstanceUid\":\"1.3.46.670589.30.966169786531.4276.1636120382185\",\"action\":\"Create\",\"timestamp\":\"2023-02-23T08:59:59.4010764+00:00\",\"state\":\"Current\",\"metadata\":{\"00080008\":{\"vr\":\"CS\",\"Value\":[\"ORIGINAL\",\"PRIMARY\",null]},\"00080016\":{\"vr\":\"UI\",\"Value\":[\"1.2.840.10008.5.1.4.1.1.1.1\"]},\"00080018\":{\"vr\":\"UI\",\"Value\":[\"1.3.46.670589.30.966169786531.4276.1636120382185\"]},\"00080020\":{\"vr\":\"DA\",\"Value\":[\"20211105\"]},\"00080021\":{\"vr\":\"DA\",\"Value\":[\"20211105\"]},\"00080022\":{\"vr\":\"DA\",\"Value\":[\"20211105\"]},\"00080023\":{\"vr\":\"DA\",\"Value\":[\"20211105\"]},\"00080030\":{\"vr\":\"TM\",\"Value\":[\"135242\"]},\"00080031\":{\"vr\":\"TM\",\"Value\":[\"135245.000000\"]},\"00080032\":{\"vr\":\"TM\",\"Value\":[\"135246\"]},\"00080033\":{\"vr\":\"TM\",\"Value\":[\"135246\"]},\"00080050\":{\"vr\":\"SH\",\"Value\":[\"OPA15249631\"]},\"00080060\":{\"vr\":\"CS\",\"Value\":[\"DX\"]},\"00080068\":{\"vr\":\"CS\",\"Value\":[\"FOR PRESENTATION\"]},\"00080070\":{\"vr\":\"LO\",\"Value\":[\"Philips\"]},\"00080080\":{\"vr\":\"LO\",\"Value\":[\"Orthopedic Physcian Associates\"]},\"00080081\":{\"vr\":\"ST\",\"Value\":[\" 601 Broadway SEATTLE US\"]},\"00080090\":{\"vr\":\"PN\",\"Value\":[{\"Alphabetic\":\"McAdam^Michael^K^^\"}]},\"00081010\":{\"vr\":\"SH\",\"Value\":[\"DiDiEleva01\"]},\"00081030\":{\"vr\":\"LO\",\"Value\":[\"Knee Standing\"]},\"00081032\":{\"vr\":\"SQ\"},\"0008103E\":{\"vr\":\"LO\",\"Value\":[\"Sunrise\"]},\"00081040\":{\"vr\":\"LO\",\"Value\":[\"Radiology\"]},\"00081050\":{\"vr\":\"PN\"},\"00081070\":{\"vr\":\"PN\",\"Value\":[{\"Alphabetic\":\"user\"}]},\"00081090\":{\"vr\":\"LO\",\"Value\":[\"DigitalDiagnost\"]},\"00081111\":{\"vr\":\"SQ\",\"Value\":[{\"00081150\":{\"vr\":\"UI\",\"Value\":[\"1.2.840.10008.3.1.2.3.3\"]},\"00081155\":{\"vr\":\"UI\",\"Value\":[\"1.3.46.670589.30.39.0.1.966169786532.1636120256134.1\"]}}]},\"00082218\":{\"vr\":\"SQ\"},\"00083010\":{\"vr\":\"UI\",\"Value\":[\"1.3.46.670589.30.39.0.1.966169786532.1636120362240.1\"]},\"00090010\":{\"vr\":\"LO\",\"Value\":[\"SECTRA_Ident_01\"]},\"00091001\":{\"vr\":\"LO\",\"Value\":[\"OPA15249631\"]},\"00091002\":{\"vr\":\"LO\",\"Value\":[\"KNEE\"]},\"00100010\":{\"vr\":\"PN\",\"Value\":[{\"Alphabetic\":\"Tarapov^Ivan^^^\"}]},\"00100020\":{\"vr\":\"LO\",\"Value\":[\"OPA126979\"]},\"00100021\":{\"vr\":\"LO\",\"Value\":[\"63036410-3E0E-4042-A7A8-7C869C269928\"]},\"00100030\":{\"vr\":\"DA\",\"Value\":[\"19821004\"]},\"00100040\":{\"vr\":\"CS\",\"Value\":[\"M\"]},\"00101000\":{\"vr\":\"LO\"},\"00101010\":{\"vr\":\"AS\",\"Value\":[\"039Y\"]},\"00101020\":{\"vr\":\"DS\",\"Value\":[0]},\"00101030\":{\"vr\":\"DS\",\"Value\":[0]},\"00102000\":{\"vr\":\"LO\"},\"00102110\":{\"vr\":\"LO\"},\"00102160\":{\"vr\":\"SH\"},\"001021B0\":{\"vr\":\"LT\",\"Value\":[null]},\"001021C0\":{\"vr\":\"US\",\"Value\":[4]},\"00104000\":{\"vr\":\"LT\",\"Value\":[null]},\"00180015\":{\"vr\":\"CS\",\"Value\":[\"KNEE\"]},\"00180060\":{\"vr\":\"DS\",\"Value\":[75]},\"00181000\":{\"vr\":\"LO\",\"Value\":[\"966169786532\"]},\"00181020\":{\"vr\":\"LO\",\"Value\":[\"4.2.6\"]},\"00181030\":{\"vr\":\"LO\",\"Value\":[\"Knee Standing\"]},\"00181050\":{\"vr\":\"DS\",\"Value\":[0.148]},\"00181114\":{\"vr\":\"DS\",\"Value\":[1.05162523900607]},\"00181150\":{\"vr\":\"IS\",\"Value\":[30]},\"00181151\":{\"vr\":\"IS\",\"Value\":[397]},\"00181152\":{\"vr\":\"IS\",\"Value\":[12]},\"00181153\":{\"vr\":\"IS\",\"Value\":[12000]},\"0018115E\":{\"vr\":\"DS\",\"Value\":[1.709]},\"00181164\":{\"vr\":\"DS\",\"Value\":[0.148,0.148]},\"00181166\":{\"vr\":\"CS\",\"Value\":[\"RECIPROCATING\"]},\"00181400\":{\"vr\":\"LO\",\"Value\":[\"UNIQUE: S:200 L:4.0 SCL d:0.9 g:1.5 sb:3.5 eq:0 nr:0 dc:2 bal...\"]},\"00181405\":{\"vr\":\"IS\",\"Value\":[33]},\"00181411\":{\"vr\":\"DS\",\"Value\":[33]},\"00181508\":{\"vr\":\"CS\",\"Value\":[\"NONE\"]},\"00181700\":{\"vr\":\"CS\",\"Value\":[\"RECTANGULAR\"]},\"00181702\":{\"vr\":\"IS\",\"Value\":[0]},\"00181704\":{\"vr\":\"IS\",\"Value\":[2619]},\"00181706\":{\"vr\":\"IS\",\"Value\":[0]},\"00181708\":{\"vr\":\"IS\",\"Value\":[1198]},\"00185101\":{\"vr\":\"CS\",\"Value\":[\"AP\"]},\"00187001\":{\"vr\":\"DS\",\"Value\":[30.5]},\"00187004\":{\"vr\":\"CS\",\"Value\":[\"SCINTILLATOR\"]},\"00187008\":{\"vr\":\"LT\",\"Value\":[\"SingleShot1s\"]},\"0018700A\":{\"vr\":\"SH\",\"Value\":[\"SN190930\"]},\"0018700C\":{\"vr\":\"DA\",\"Value\":[\"20210803\"]},\"0018700E\":{\"vr\":\"TM\",\"Value\":[\"162331\"]},\"00187012\":{\"vr\":\"DS\",\"Value\":[360323.644]},\"0018702A\":{\"vr\":\"LO\",\"Value\":[\"TRIXELL\"]},\"0018702B\":{\"vr\":\"LO\",\"Value\":[\"PIXIUM4343RCE\"]},\"00187030\":{\"vr\":\"DS\",\"Value\":[0,0]},\"00187032\":{\"vr\":\"DS\",\"Value\":[0]},\"00187034\":{\"vr\":\"CS\",\"Value\":[\"YES\"]},\"00187060\":{\"vr\":\"CS\",\"Value\":[\"MANUAL\"]},\"00187062\":{\"vr\":\"LT\",\"Value\":[\"0\"]},\"00188150\":{\"vr\":\"DS\",\"Value\":[30200]},\"00188151\":{\"vr\":\"DS\",\"Value\":[397200]},\"0020000D\":{\"vr\":\"UI\",\"Value\":[\"1.2.752.24.7.2743982252.8392159\"]},\"0020000E\":{\"vr\":\"UI\",\"Value\":[\"1.3.46.670589.30.39.0.1.966169786532.1636120380383.1\"]},\"00200010\":{\"vr\":\"SH\",\"Value\":[\"KNEE\"]},\"00200011\":{\"vr\":\"IS\",\"Value\":[1]},\"00200013\":{\"vr\":\"IS\",\"Value\":[1]},\"00200020\":{\"vr\":\"CS\",\"Value\":[\"L\",\"F\"]},\"00200062\":{\"vr\":\"CS\"},\"00280002\":{\"vr\":\"US\",\"Value\":[1]},\"00280004\":{\"vr\":\"CS\",\"Value\":[\"MONOCHROME2\"]},\"00280010\":{\"vr\":\"US\",\"Value\":[1199]},\"00280011\":{\"vr\":\"US\",\"Value\":[2620]},\"00280030\":{\"vr\":\"DS\",\"Value\":[0.14073453843593,0.14073453843593]},\"00280100\":{\"vr\":\"US\",\"Value\":[16]},\"00280101\":{\"vr\":\"US\",\"Value\":[12]},\"00280102\":{\"vr\":\"US\",\"Value\":[11]},\"00280103\":{\"vr\":\"US\",\"Value\":[0]},\"00280300\":{\"vr\":\"CS\",\"Value\":[\"NO\"]},\"00280301\":{\"vr\":\"CS\",\"Value\":[\"NO\"]},\"00281040\":{\"vr\":\"CS\",\"Value\":[\"LOG\"]},\"00281041\":{\"vr\":\"SS\",\"Value\":[-1]},\"00281050\":{\"vr\":\"DS\",\"Value\":[2048]},\"00281051\":{\"vr\":\"DS\",\"Value\":[4096]},\"00282110\":{\"vr\":\"CS\",\"Value\":[\"00\"]},\"00321032\":{\"vr\":\"PN\"},\"00321033\":{\"vr\":\"LO\"},\"00321060\":{\"vr\":\"LO\"},\"00321064\":{\"vr\":\"SQ\"},\"00380050\":{\"vr\":\"LO\"},\"00380500\":{\"vr\":\"LO\"},\"00400241\":{\"vr\":\"AE\",\"Value\":[\"Eleva\"]},\"00400244\":{\"vr\":\"DA\",\"Value\":[\"20211105\"]},\"00400245\":{\"vr\":\"TM\",\"Value\":[\"135242.309000\"]},\"00400252\":{\"vr\":\"CS\"},\"00400253\":{\"vr\":\"SH\",\"Value\":[\"E-KVMFR98I.1\"]},\"00400254\":{\"vr\":\"LO\",\"Value\":[\"Knee Standing\"]},\"00400275\":{\"vr\":\"SQ\",\"Value\":[{\"00400007\":{\"vr\":\"LO\"},\"00400008\":{\"vr\":\"SQ\",\"Value\":[{\"00080100\":{\"vr\":\"SH\"},\"00080102\":{\"vr\":\"SH\"},\"00080104\":{\"vr\":\"LO\"}}]},\"00400009\":{\"vr\":\"SH\",\"Value\":[\"0\"]},\"00401001\":{\"vr\":\"SH\",\"Value\":[\"0\"]}}]},\"00400301\":{\"vr\":\"US\",\"Value\":[1]},\"00400302\":{\"vr\":\"US\",\"Value\":[0]},\"00400320\":{\"vr\":\"SQ\"},\"00400321\":{\"vr\":\"SQ\"},\"00400555\":{\"vr\":\"SQ\"},\"00401001\":{\"vr\":\"SH\",\"Value\":[\"0\"]},\"00401002\":{\"vr\":\"LO\"},\"00401003\":{\"vr\":\"SH\"},\"00401004\":{\"vr\":\"LO\"},\"00401010\":{\"vr\":\"PN\"},\"00401400\":{\"vr\":\"LT\",\"Value\":[null]},\"00402001\":{\"vr\":\"LO\"},\"00402004\":{\"vr\":\"DA\"},\"00402400\":{\"vr\":\"LT\",\"Value\":[null]},\"00408302\":{\"vr\":\"DS\",\"Value\":[1.182]},\"20010010\":{\"vr\":\"LO\",\"Value\":[\"Philips Imaging DD 001\"]},\"20010011\":{\"vr\":\"LO\",\"Value\":[\"Philips Imaging DD 002\"]},\"20011063\":{\"vr\":\"CS\",\"Value\":[\"ELSEWHERE\"]},\"200110F3\":{\"vr\":\"CS\",\"Value\":[\"YES\"]},\"2001116C\":{\"vr\":\"LO\",\"Value\":[\"E-KVMFR98I.1\"]},\"2001116D\":{\"vr\":\"LO\",\"Value\":[\"RIS\"]},\"200B0010\":{\"vr\":\"LO\",\"Value\":[\"Philips RAD Imaging DD 001\"]},\"200B0070\":{\"vr\":\"LO\",\"Value\":[\"Philips RAD Imaging DD 097\"]},\"200B0072\":{\"vr\":\"LO\",\"Value\":[\"Philips RAD Imaging DD 099\"]},\"200B1000\":{\"vr\":\"PN\"},\"200B1001\":{\"vr\":\"US\",\"Value\":[3]},\"200B1002\":{\"vr\":\"US\",\"Value\":[7]},\"200B1005\":{\"vr\":\"IS\",\"Value\":[2]},\"200B1011\":{\"vr\":\"LO\",\"Value\":[\"Sunrise\"]},\"200B1027\":{\"vr\":\"DT\",\"Value\":[\"30000101000000.000000\"]},\"200B1028\":{\"vr\":\"DS\",\"Value\":[1.709]},\"200B1029\":{\"vr\":\"DS\",\"Value\":[0]},\"200B102A\":{\"vr\":\"UL\",\"Value\":[1182]},\"200B102B\":{\"vr\":\"DA\",\"Value\":[\"20211105\"]},\"200B102C\":{\"vr\":\"TM\",\"Value\":[\"134500\"]},\"200B102E\":{\"vr\":\"US\",\"Value\":[430]},\"200B102F\":{\"vr\":\"UL\",\"Value\":[1182]},\"200B1030\":{\"vr\":\"UL\",\"Value\":[0]},\"200B103B\":{\"vr\":\"LO\",\"Value\":[\"Knee Standing\"]},\"200B1041\":{\"vr\":\"SH\",\"Value\":[\"TRUE\"]},\"200B1042\":{\"vr\":\"UI\",\"Value\":[\"1.3.46.670589.30.39.0.1.966169786532.1636120256134.1\"]},\"200B1047\":{\"vr\":\"DA\",\"Value\":[\"20211105\"]},\"200B1048\":{\"vr\":\"SH\",\"Value\":[\"FALSE\"]},\"200B104C\":{\"vr\":\"SH\",\"Value\":[\"COMPLETED\"]},\"200B104F\":{\"vr\":\"DT\",\"Value\":[\"20211105135245.802000\"]},\"200B1052\":{\"vr\":\"CS\",\"Value\":[\"NORMAL\"]},\"200B7000\":{\"vr\":\"ST\",\"Value\":[\"file:/G:/Images/gxrOrth5661622112478393906.gip\"]},\"200B7060\":{\"vr\":\"LT\",\"Value\":[\"ACQUISITION_81312_105267\"]},\"200B7063\":{\"vr\":\"LT\",\"Value\":[\"UNIQUE: S:200 L:4.0 SCL d:0.9 g:1.5 sb:3.5 eq:0 nr:0 dc:2 bal:0.2 wcl:3 scl:7 sbo:0 n:2 2 0.8 s:0 nr:0 0025025 1.84 vlf:NONE\"]},\"200B7074\":{\"vr\":\"IS\",\"Value\":[14]},\"200B7076\":{\"vr\":\"SH\",\"Value\":[\"standard\"]},\"200B7079\":{\"vr\":\"IS\",\"Value\":[6000]},\"200B707A\":{\"vr\":\"IS\",\"Value\":[5]},\"200B707E\":{\"vr\":\"UI\",\"Value\":[\"1.3.46.670589.30.39.0.1.966169786532.1636120380514.1\"]},\"200B7088\":{\"vr\":\"CS\",\"Value\":[\"TRUE\"]},\"200B7089\":{\"vr\":\"LT\",\"Value\":[\"DXIMAGE_153461_153488\"]},\"200B7096\":{\"vr\":\"SH\",\"Value\":[\"Wall\"]},\"200B709F\":{\"vr\":\"SQ\",\"Value\":[{\"00080016\":{\"vr\":\"UI\",\"Value\":[\"1.2.840.10008.3.1.2.3.3\"]},\"00080018\":{\"vr\":\"UI\",\"Value\":[\"1.3.46.670589.30.39.0.1.966169786532.1636120256134.1\"]}}]},\"200B70A4\":{\"vr\":\"AS\",\"Value\":[\"039Y\"]},\"200B70A5\":{\"vr\":\"DS\",\"Value\":[30.7]},\"200B70AA\":{\"vr\":\"SQ\",\"Value\":[{\"00080018\":{\"vr\":\"UI\",\"Value\":[\"1.3.46.670589.30.39.0.1.966169786532.1636120365996.1\"]},\"200B0070\":{\"vr\":\"LO\",\"Value\":[\"Philips RAD Imaging DD 097\"]},\"200B70AB\":{\"vr\":\"LO\",\"Value\":[\"DXForPresentation\"]},\"200B70AC\":{\"vr\":\"SL\",\"Value\":[-731529653]}}]},\"200B70B7\":{\"vr\":\"US\",\"Value\":[0]},\"200B70B9\":{\"vr\":\"SH\",\"Value\":[\"TRUE\"]},\"200B70BA\":{\"vr\":\"SH\",\"Value\":[\"SMALL\"]},\"200B7236\":{\"vr\":\"CS\",\"Value\":[\"NO\"]},\"200B7237\":{\"vr\":\"CS\",\"Value\":[\"NO\"]}}},{\"sequence\":8,\"partitionName\":\"Microsoft.Default\",\"studyInstanceUid\":\"1.2.752.24.7.2743982252.8392159\",\"seriesInstanceUid\":\"1.3.46.670589.30.39.0.1.966169786532.1636120531815.1\",\"sopInstanceUid\":\"1.3.46.670589.30.966169786531.4276.1636120533586\",\"action\":\"Create\",\"timestamp\":\"2023-02-23T08:59:59.6979536+00:00\",\"state\":\"Current\",\"metadata\":{\"00080008\":{\"vr\":\"CS\",\"Value\":[\"ORIGINAL\",\"PRIMARY\",null]},\"00080016\":{\"vr\":\"UI\",\"Value\":[\"1.2.840.10008.5.1.4.1.1.1.1\"]},\"00080018\":{\"vr\":\"UI\",\"Value\":[\"1.3.46.670589.30.966169786531.4276.1636120533586\"]},\"00080020\":{\"vr\":\"DA\",\"Value\":[\"20211105\"]},\"00080021\":{\"vr\":\"DA\",\"Value\":[\"20211105\"]},\"00080022\":{\"vr\":\"DA\",\"Value\":[\"20211105\"]},\"00080023\":{\"vr\":\"DA\",\"Value\":[\"20211105\"]},\"00080030\":{\"vr\":\"TM\",\"Value\":[\"135242\"]},\"00080031\":{\"vr\":\"TM\",\"Value\":[\"135509.000000\"]},\"00080032\":{\"vr\":\"TM\",\"Value\":[\"135510\"]},\"00080033\":{\"vr\":\"TM\",\"Value\":[\"135510\"]},\"00080050\":{\"vr\":\"SH\",\"Value\":[\"OPA15249631\"]},\"00080060\":{\"vr\":\"CS\",\"Value\":[\"DX\"]},\"00080068\":{\"vr\":\"CS\",\"Value\":[\"FOR PRESENTATION\"]},\"00080070\":{\"vr\":\"LO\",\"Value\":[\"Philips\"]},\"00080080\":{\"vr\":\"LO\",\"Value\":[\"Orthopedic Physcian Associates\"]},\"00080081\":{\"vr\":\"ST\",\"Value\":[\" 601 Broadway SEATTLE US\"]},\"00080090\":{\"vr\":\"PN\",\"Value\":[{\"Alphabetic\":\"McAdam^Michael^K^^\"}]},\"00081010\":{\"vr\":\"SH\",\"Value\":[\"DiDiEleva01\"]},\"00081030\":{\"vr\":\"LO\",\"Value\":[\"Knee Standing\"]},\"00081032\":{\"vr\":\"SQ\"},\"0008103E\":{\"vr\":\"LO\",\"Value\":[\"AP Bilateral WB\"]},\"00081040\":{\"vr\":\"LO\",\"Value\":[\"Radiology\"]},\"00081050\":{\"vr\":\"PN\"},\"00081070\":{\"vr\":\"PN\",\"Value\":[{\"Alphabetic\":\"user\"}]},\"00081090\":{\"vr\":\"LO\",\"Value\":[\"DigitalDiagnost\"]},\"00081111\":{\"vr\":\"SQ\",\"Value\":[{\"00081150\":{\"vr\":\"UI\",\"Value\":[\"1.2.840.10008.3.1.2.3.3\"]},\"00081155\":{\"vr\":\"UI\",\"Value\":[\"1.3.46.670589.30.39.0.1.966169786532.1636120256134.1\"]}}]},\"00082218\":{\"vr\":\"SQ\"},\"00083010\":{\"vr\":\"UI\",\"Value\":[\"1.3.46.670589.30.39.0.1.966169786532.1636120505922.1\"]},\"00090010\":{\"vr\":\"LO\",\"Value\":[\"SECTRA_Ident_01\"]},\"00091001\":{\"vr\":\"LO\",\"Value\":[\"OPA15249631\"]},\"00091002\":{\"vr\":\"LO\",\"Value\":[\"KNEE\"]},\"00100010\":{\"vr\":\"PN\",\"Value\":[{\"Alphabetic\":\"Tarapov^Ivan^^^\"}]},\"00100020\":{\"vr\":\"LO\",\"Value\":[\"OPA126979\"]},\"00100021\":{\"vr\":\"LO\",\"Value\":[\"63036410-3E0E-4042-A7A8-7C869C269928\"]},\"00100030\":{\"vr\":\"DA\",\"Value\":[\"19821004\"]},\"00100040\":{\"vr\":\"CS\",\"Value\":[\"M\"]},\"00101000\":{\"vr\":\"LO\"},\"00101010\":{\"vr\":\"AS\",\"Value\":[\"039Y\"]},\"00101020\":{\"vr\":\"DS\",\"Value\":[0]},\"00101030\":{\"vr\":\"DS\",\"Value\":[0]},\"00102000\":{\"vr\":\"LO\"},\"00102110\":{\"vr\":\"LO\"},\"00102160\":{\"vr\":\"SH\"},\"001021B0\":{\"vr\":\"LT\",\"Value\":[null]},\"001021C0\":{\"vr\":\"US\",\"Value\":[4]},\"00104000\":{\"vr\":\"LT\",\"Value\":[null]},\"00180015\":{\"vr\":\"CS\",\"Value\":[\"KNEE\"]},\"00180060\":{\"vr\":\"DS\",\"Value\":[66]},\"00181000\":{\"vr\":\"LO\",\"Value\":[\"966169786532\"]},\"00181020\":{\"vr\":\"LO\",\"Value\":[\"4.2.6\"]},\"00181030\":{\"vr\":\"LO\",\"Value\":[\"Knee Standing\"]},\"00181050\":{\"vr\":\"DS\",\"Value\":[0.148]},\"00181114\":{\"vr\":\"DS\",\"Value\":[0.99009900990099]},\"00181150\":{\"vr\":\"IS\",\"Value\":[16]},\"00181151\":{\"vr\":\"IS\",\"Value\":[380]},\"00181152\":{\"vr\":\"IS\",\"Value\":[6]},\"00181153\":{\"vr\":\"IS\",\"Value\":[6000]},\"0018115E\":{\"vr\":\"DS\",\"Value\":[4.642]},\"00181164\":{\"vr\":\"DS\",\"Value\":[0.148,0.148]},\"00181166\":{\"vr\":\"CS\",\"Value\":[\"RECIPROCATING\"]},\"00181400\":{\"vr\":\"LO\",\"Value\":[\"UNIQUE: S:200 L:4.0 FB d:1.1 g:2 sb:2.8 eq:0 nr:0 dc:3 bal:0....\"]},\"00181405\":{\"vr\":\"IS\",\"Value\":[117]},\"00181411\":{\"vr\":\"DS\",\"Value\":[117]},\"00181508\":{\"vr\":\"CS\",\"Value\":[\"NONE\"]},\"00181700\":{\"vr\":\"CS\",\"Value\":[\"RECTANGULAR\"]},\"00181702\":{\"vr\":\"IS\",\"Value\":[0]},\"00181704\":{\"vr\":\"IS\",\"Value\":[2548]},\"00181706\":{\"vr\":\"IS\",\"Value\":[0]},\"00181708\":{\"vr\":\"IS\",\"Value\":[2873]},\"00185101\":{\"vr\":\"CS\",\"Value\":[\"AP\"]},\"00187001\":{\"vr\":\"DS\",\"Value\":[30.5]},\"00187004\":{\"vr\":\"CS\",\"Value\":[\"SCINTILLATOR\"]},\"00187008\":{\"vr\":\"LT\",\"Value\":[\"SingleShot1s\"]},\"0018700A\":{\"vr\":\"SH\",\"Value\":[\"SN190930\"]},\"0018700C\":{\"vr\":\"DA\",\"Value\":[\"20210803\"]},\"0018700E\":{\"vr\":\"TM\",\"Value\":[\"162331\"]},\"00187012\":{\"vr\":\"DS\",\"Value\":[63304.864]},\"0018702A\":{\"vr\":\"LO\",\"Value\":[\"TRIXELL\"]},\"0018702B\":{\"vr\":\"LO\",\"Value\":[\"PIXIUM4343RCE\"]},\"00187030\":{\"vr\":\"DS\",\"Value\":[0,0]},\"00187032\":{\"vr\":\"DS\",\"Value\":[0]},\"00187034\":{\"vr\":\"CS\",\"Value\":[\"NO\"]},\"00187060\":{\"vr\":\"CS\",\"Value\":[\"MANUAL\"]},\"00187062\":{\"vr\":\"LT\",\"Value\":[\"0\"]},\"00188150\":{\"vr\":\"DS\",\"Value\":[15800]},\"00188151\":{\"vr\":\"DS\",\"Value\":[379600]},\"0020000D\":{\"vr\":\"UI\",\"Value\":[\"1.2.752.24.7.2743982252.8392159\"]},\"0020000E\":{\"vr\":\"UI\",\"Value\":[\"1.3.46.670589.30.39.0.1.966169786532.1636120531815.1\"]},\"00200010\":{\"vr\":\"SH\",\"Value\":[\"KNEE\"]},\"00200011\":{\"vr\":\"IS\",\"Value\":[3]},\"00200013\":{\"vr\":\"IS\",\"Value\":[1]},\"00200020\":{\"vr\":\"CS\",\"Value\":[\"L\",\"F\"]},\"00200062\":{\"vr\":\"CS\",\"Value\":[\"B\"]},\"00280002\":{\"vr\":\"US\",\"Value\":[1]},\"00280004\":{\"vr\":\"CS\",\"Value\":[\"MONOCHROME2\"]},\"00280010\":{\"vr\":\"US\",\"Value\":[2874]},\"00280011\":{\"vr\":\"US\",\"Value\":[2549]},\"00280030\":{\"vr\":\"DS\",\"Value\":[0.14948000013828,0.14948000013828]},\"00280100\":{\"vr\":\"US\",\"Value\":[16]},\"00280101\":{\"vr\":\"US\",\"Value\":[12]},\"00280102\":{\"vr\":\"US\",\"Value\":[11]},\"00280103\":{\"vr\":\"US\",\"Value\":[0]},\"00280300\":{\"vr\":\"CS\",\"Value\":[\"NO\"]},\"00280301\":{\"vr\":\"CS\",\"Value\":[\"NO\"]},\"00281040\":{\"vr\":\"CS\",\"Value\":[\"LOG\"]},\"00281041\":{\"vr\":\"SS\",\"Value\":[-1]},\"00281050\":{\"vr\":\"DS\",\"Value\":[2048]},\"00281051\":{\"vr\":\"DS\",\"Value\":[4096]},\"00282110\":{\"vr\":\"CS\",\"Value\":[\"00\"]},\"00321032\":{\"vr\":\"PN\"},\"00321033\":{\"vr\":\"LO\"},\"00321060\":{\"vr\":\"LO\"},\"00321064\":{\"vr\":\"SQ\"},\"00380050\":{\"vr\":\"LO\"},\"00380500\":{\"vr\":\"LO\"},\"00400241\":{\"vr\":\"AE\",\"Value\":[\"Eleva\"]},\"00400244\":{\"vr\":\"DA\",\"Value\":[\"20211105\"]},\"00400245\":{\"vr\":\"TM\",\"Value\":[\"135242.309000\"]},\"00400252\":{\"vr\":\"CS\"},\"00400253\":{\"vr\":\"SH\",\"Value\":[\"E-KVMFR98I.1\"]},\"00400254\":{\"vr\":\"LO\",\"Value\":[\"Knee Standing\"]},\"00400275\":{\"vr\":\"SQ\",\"Value\":[{\"00400007\":{\"vr\":\"LO\"},\"00400008\":{\"vr\":\"SQ\",\"Value\":[{\"00080100\":{\"vr\":\"SH\"},\"00080102\":{\"vr\":\"SH\"},\"00080104\":{\"vr\":\"LO\"}}]},\"00400009\":{\"vr\":\"SH\",\"Value\":[\"0\"]},\"00401001\":{\"vr\":\"SH\",\"Value\":[\"0\"]}}]},\"00400301\":{\"vr\":\"US\",\"Value\":[3]},\"00400302\":{\"vr\":\"US\",\"Value\":[0]},\"00400320\":{\"vr\":\"SQ\"},\"00400321\":{\"vr\":\"SQ\"},\"00400555\":{\"vr\":\"SQ\"},\"00401001\":{\"vr\":\"SH\",\"Value\":[\"0\"]},\"00401002\":{\"vr\":\"LO\"},\"00401003\":{\"vr\":\"SH\"},\"00401004\":{\"vr\":\"LO\"},\"00401010\":{\"vr\":\"PN\"},\"00401400\":{\"vr\":\"LT\",\"Value\":[null]},\"00402001\":{\"vr\":\"LO\"},\"00402004\":{\"vr\":\"DA\"},\"00402400\":{\"vr\":\"LT\",\"Value\":[null]},\"00408302\":{\"vr\":\"DS\",\"Value\":[2.092]},\"20010010\":{\"vr\":\"LO\",\"Value\":[\"Philips Imaging DD 001\"]},\"20010011\":{\"vr\":\"LO\",\"Value\":[\"Philips Imaging DD 002\"]},\"20011063\":{\"vr\":\"CS\",\"Value\":[\"ELSEWHERE\"]},\"200110F3\":{\"vr\":\"CS\",\"Value\":[\"YES\"]},\"2001116C\":{\"vr\":\"LO\",\"Value\":[\"E-KVMFR98I.1\"]},\"2001116D\":{\"vr\":\"LO\",\"Value\":[\"RIS\"]},\"200B0010\":{\"vr\":\"LO\",\"Value\":[\"Philips RAD Imaging DD 001\"]},\"200B0070\":{\"vr\":\"LO\",\"Value\":[\"Philips RAD Imaging DD 097\"]},\"200B0072\":{\"vr\":\"LO\",\"Value\":[\"Philips RAD Imaging DD 099\"]},\"200B1000\":{\"vr\":\"PN\"},\"200B1001\":{\"vr\":\"US\",\"Value\":[3]},\"200B1002\":{\"vr\":\"US\",\"Value\":[7]},\"200B1005\":{\"vr\":\"IS\",\"Value\":[2]},\"200B1011\":{\"vr\":\"LO\",\"Value\":[\"AP Bilateral WB\"]},\"200B1027\":{\"vr\":\"DT\",\"Value\":[\"30000101000000.000000\"]},\"200B1028\":{\"vr\":\"DS\",\"Value\":[10.545]},\"200B1029\":{\"vr\":\"DS\",\"Value\":[0]},\"200B102A\":{\"vr\":\"UL\",\"Value\":[2092]},\"200B102B\":{\"vr\":\"DA\",\"Value\":[\"20211105\"]},\"200B102C\":{\"vr\":\"TM\",\"Value\":[\"134500\"]},\"200B102E\":{\"vr\":\"US\",\"Value\":[960]},\"200B102F\":{\"vr\":\"UL\",\"Value\":[2092]},\"200B1030\":{\"vr\":\"UL\",\"Value\":[0]},\"200B103B\":{\"vr\":\"LO\",\"Value\":[\"Knee Standing\"]},\"200B1041\":{\"vr\":\"SH\",\"Value\":[\"TRUE\"]},\"200B1042\":{\"vr\":\"UI\",\"Value\":[\"1.3.46.670589.30.39.0.1.966169786532.1636120256134.1\"]},\"200B1047\":{\"vr\":\"DA\",\"Value\":[\"20211105\"]},\"200B1048\":{\"vr\":\"SH\",\"Value\":[\"FALSE\"]},\"200B104C\":{\"vr\":\"SH\",\"Value\":[\"COMPLETED\"]},\"200B104F\":{\"vr\":\"DT\",\"Value\":[\"20211105135509.293000\"]},\"200B1052\":{\"vr\":\"CS\",\"Value\":[\"NORMAL\"]},\"200B7000\":{\"vr\":\"ST\",\"Value\":[\"file:/G:/Images/gxrOrth5772588890194167537.gip\"]},\"200B7060\":{\"vr\":\"LT\",\"Value\":[\"ACQUISITION_81314_105265\"]},\"200B7063\":{\"vr\":\"LT\",\"Value\":[\"UNIQUE: S:200 L:4.0 FB d:1.1 g:2 sb:2.8 eq:0 nr:0 dc:3 bal:0.7 wcl:3 scl:7 sbo:0 n:2 2 0.8 s:0 nr:0 0025025 2.38 vlf:NONE\"]},\"200B7074\":{\"vr\":\"IS\",\"Value\":[14]},\"200B7076\":{\"vr\":\"SH\",\"Value\":[\"standard\"]},\"200B7079\":{\"vr\":\"IS\",\"Value\":[6000]},\"200B707A\":{\"vr\":\"IS\",\"Value\":[5]},\"200B707E\":{\"vr\":\"UI\",\"Value\":[\"1.3.46.670589.30.39.0.1.966169786532.1636120531923.1\"]},\"200B7088\":{\"vr\":\"CS\",\"Value\":[\"TRUE\"]},\"200B7089\":{\"vr\":\"LT\",\"Value\":[\"DXIMAGE_153465_153492\"]},\"200B7096\":{\"vr\":\"SH\",\"Value\":[\"Wall\"]},\"200B709F\":{\"vr\":\"SQ\",\"Value\":[{\"00080016\":{\"vr\":\"UI\",\"Value\":[\"1.2.840.10008.3.1.2.3.3\"]},\"00080018\":{\"vr\":\"UI\",\"Value\":[\"1.3.46.670589.30.39.0.1.966169786532.1636120256134.1\"]}}]},\"200B70A4\":{\"vr\":\"AS\",\"Value\":[\"039Y\"]},\"200B70A5\":{\"vr\":\"DS\",\"Value\":[30.7]},\"200B70AA\":{\"vr\":\"SQ\",\"Value\":[{\"00080018\":{\"vr\":\"UI\",\"Value\":[\"1.3.46.670589.30.39.0.1.966169786532.1636120509840.1\"]},\"200B0070\":{\"vr\":\"LO\",\"Value\":[\"Philips RAD Imaging DD 097\"]},\"200B70AB\":{\"vr\":\"LO\",\"Value\":[\"DXForPresentation\"]},\"200B70AC\":{\"vr\":\"SL\",\"Value\":[1790586892]}}]},\"200B70B7\":{\"vr\":\"US\",\"Value\":[0]},\"200B70B9\":{\"vr\":\"SH\",\"Value\":[\"TRUE\"]},\"200B70BA\":{\"vr\":\"SH\",\"Value\":[\"SMALL\"]},\"200B7236\":{\"vr\":\"CS\",\"Value\":[\"NO\"]},\"200B7237\":{\"vr\":\"CS\",\"Value\":[\"NO\"]}}},{\"sequence\":9,\"partitionName\":\"Microsoft.Default\",\"studyInstanceUid\":\"1.2.752.24.7.2743982252.8429953\",\"seriesInstanceUid\":\"1.3.12.2.1107.5.2.33.37105.2021112212363965829224692.0.0.0\",\"sopInstanceUid\":\"1.3.12.2.1107.5.2.33.37105.2021112212364265557224844\",\"action\":\"Create\",\"timestamp\":\"2023-02-23T09:07:14.2010809+00:00\",\"state\":\"Current\",\"metadata\":{\"00080005\":{\"vr\":\"CS\",\"Value\":[\"ISO_IR 100\"]},\"00080008\":{\"vr\":\"CS\",\"Value\":[\"ORIGINAL\",\"PRIMARY\",\"M\",\"ND\",\"NORM\"]},\"00080012\":{\"vr\":\"DA\",\"Value\":[\"20211122\"]},\"00080013\":{\"vr\":\"TM\",\"Value\":[\"123643.429000\"]},\"00080016\":{\"vr\":\"UI\",\"Value\":[\"1.2.840.10008.5.1.4.1.1.4\"]},\"00080018\":{\"vr\":\"UI\",\"Value\":[\"1.3.12.2.1107.5.2.33.37105.2021112212364265557224844\"]},\"00080020\":{\"vr\":\"DA\",\"Value\":[\"20211122\"]},\"00080021\":{\"vr\":\"DA\",\"Value\":[\"20211122\"]},\"00080022\":{\"vr\":\"DA\",\"Value\":[\"20211122\"]},\"00080023\":{\"vr\":\"DA\",\"Value\":[\"20211122\"]},\"00080030\":{\"vr\":\"TM\",\"Value\":[\"122026\"]},\"00080031\":{\"vr\":\"TM\",\"Value\":[\"123643.359000\"]},\"00080032\":{\"vr\":\"TM\",\"Value\":[\"123417.655000\"]},\"00080033\":{\"vr\":\"TM\",\"Value\":[\"123643.429000\"]},\"00080050\":{\"vr\":\"SH\",\"Value\":[\"OPA15311064\"]},\"00080060\":{\"vr\":\"CS\",\"Value\":[\"MR\"]},\"00080070\":{\"vr\":\"LO\",\"Value\":[\"SIEMENS\"]},\"00080080\":{\"vr\":\"LO\",\"Value\":[\"Orthopedic Physician Associates\"]},\"00080081\":{\"vr\":\"ST\",\"Value\":[\"Street 900  terry ave,Seattle,Seattle,US,98004\"]},\"00080090\":{\"vr\":\"PN\",\"Value\":[{\"Alphabetic\":\"McAdam^Michael^K^^\"}]},\"00081010\":{\"vr\":\"SH\",\"Value\":[\"MRC37105\"]},\"00081030\":{\"vr\":\"LO\",\"Value\":[\"LOWER_EXT_RT^KNEE\"]},\"0008103E\":{\"vr\":\"LO\",\"Value\":[\"sag pd\"]},\"00081040\":{\"vr\":\"LO\",\"Value\":[\"Department\"]},\"00081050\":{\"vr\":\"PN\"},\"00081070\":{\"vr\":\"PN\",\"Value\":[{\"Alphabetic\":\"DMD\"}]},\"00081090\":{\"vr\":\"LO\",\"Value\":[\"SymphonyTim\"]},\"00081140\":{\"vr\":\"SQ\",\"Value\":[{\"00081150\":{\"vr\":\"UI\",\"Value\":[\"1.2.840.10008.5.1.4.1.1.4\"]},\"00081155\":{\"vr\":\"UI\",\"Value\":[\"1.3.12.2.1107.5.2.33.37105.2021112212305026529924528\"]}},{\"00081150\":{\"vr\":\"UI\",\"Value\":[\"1.2.840.10008.5.1.4.1.1.4\"]},\"00081155\":{\"vr\":\"UI\",\"Value\":[\"1.3.12.2.1107.5.2.33.37105.2021112212271552229624333\"]}},{\"00081150\":{\"vr\":\"UI\",\"Value\":[\"1.2.840.10008.5.1.4.1.1.4\"]},\"00081155\":{\"vr\":\"UI\",\"Value\":[\"1.3.12.2.1107.5.2.33.37105.2021112212232592396823659\"]}}]},\"00090010\":{\"vr\":\"LO\",\"Value\":[\"SECTRA_Ident_01\"]},\"00091001\":{\"vr\":\"LO\",\"Value\":[\"OPA15311064\"]},\"00091002\":{\"vr\":\"LO\",\"Value\":[\"0\"]},\"00100010\":{\"vr\":\"PN\",\"Value\":[{\"Alphabetic\":\"Tarapov^Ivan^^^\"}]},\"00100020\":{\"vr\":\"LO\",\"Value\":[\"OPA126979\"]},\"00100021\":{\"vr\":\"LO\",\"Value\":[\"63036410-3E0E-4042-A7A8-7C869C269928\"]},\"00100030\":{\"vr\":\"DA\",\"Value\":[\"19821004\"]},\"00100040\":{\"vr\":\"CS\",\"Value\":[\"M\"]},\"00101010\":{\"vr\":\"AS\",\"Value\":[\"039Y\"]},\"00101030\":{\"vr\":\"DS\",\"Value\":[104.326258371]},\"00180020\":{\"vr\":\"CS\",\"Value\":[\"SE\"]},\"00180021\":{\"vr\":\"CS\",\"Value\":[\"SK\",\"SP\",\"OSP\"]},\"00180022\":{\"vr\":\"CS\"},\"00180023\":{\"vr\":\"CS\",\"Value\":[\"2D\"]},\"00180024\":{\"vr\":\"SH\",\"Value\":[\"*tse2d1_7\"]},\"00180025\":{\"vr\":\"CS\",\"Value\":[\"N\"]},\"00180050\":{\"vr\":\"DS\",\"Value\":[3]},\"00180080\":{\"vr\":\"DS\",\"Value\":[3791]},\"00180081\":{\"vr\":\"DS\",\"Value\":[39]},\"00180083\":{\"vr\":\"DS\",\"Value\":[1]},\"00180084\":{\"vr\":\"DS\",\"Value\":[63.671932]},\"00180085\":{\"vr\":\"SH\",\"Value\":[\"1H\"]},\"00180086\":{\"vr\":\"IS\",\"Value\":[1]},\"00180087\":{\"vr\":\"DS\",\"Value\":[1.5]},\"00180088\":{\"vr\":\"DS\",\"Value\":[3]},\"00180089\":{\"vr\":\"IS\",\"Value\":[510]},\"00180091\":{\"vr\":\"IS\",\"Value\":[7]},\"00180093\":{\"vr\":\"DS\",\"Value\":[57]},\"00180094\":{\"vr\":\"DS\",\"Value\":[100]},\"00180095\":{\"vr\":\"DS\",\"Value\":[120]},\"00181000\":{\"vr\":\"LO\",\"Value\":[\"37105\"]},\"00181020\":{\"vr\":\"LO\",\"Value\":[\"syngo MR B19\"]},\"00181030\":{\"vr\":\"LO\",\"Value\":[\"sag pd\"]},\"00181251\":{\"vr\":\"SH\",\"Value\":[\"TxRx_15Ch_Knee\"]},\"00181310\":{\"vr\":\"US\",\"Value\":[448,0,0,255]},\"00181312\":{\"vr\":\"CS\",\"Value\":[\"COL\"]},\"00181314\":{\"vr\":\"DS\",\"Value\":[140]},\"00181315\":{\"vr\":\"CS\",\"Value\":[\"N\"]},\"00181316\":{\"vr\":\"DS\",\"Value\":[0.09383499511993]},\"00181318\":{\"vr\":\"DS\",\"Value\":[0]},\"00185100\":{\"vr\":\"CS\",\"Value\":[\"FFS\"]},\"00190010\":{\"vr\":\"LO\",\"Value\":[\"SIEMENS MR HEADER\"]},\"00191008\":{\"vr\":\"CS\",\"Value\":[\"IMAGE NUM 4\"]},\"00191009\":{\"vr\":\"LO\",\"Value\":[\"1.0\"]},\"0019100B\":{\"vr\":\"DS\",\"Value\":[144712.5]},\"0019100F\":{\"vr\":\"SH\",\"Value\":[\"Fast\"]},\"00191011\":{\"vr\":\"SH\",\"Value\":[\"No\"]},\"00191012\":{\"vr\":\"SL\",\"Value\":[0,0,-1569]},\"00191013\":{\"vr\":\"SL\",\"Value\":[0,0,-1569]},\"00191014\":{\"vr\":\"IS\",\"Value\":[0,0,0]},\"00191015\":{\"vr\":\"FD\",\"Value\":[-44.28155957,-125.45394317,69.18622038]},\"00191016\":{\"vr\":\"DS\",\"Value\":[3.105]},\"00191017\":{\"vr\":\"DS\",\"Value\":[1]},\"00191018\":{\"vr\":\"IS\",\"Value\":[9300]},\"0020000D\":{\"vr\":\"UI\",\"Value\":[\"1.2.752.24.7.2743982252.8429953\"]},\"0020000E\":{\"vr\":\"UI\",\"Value\":[\"1.3.12.2.1107.5.2.33.37105.2021112212363965829224692.0.0.0\"]},\"00200010\":{\"vr\":\"SH\",\"Value\":[\"0\"]},\"00200011\":{\"vr\":\"IS\",\"Value\":[5]},\"00200012\":{\"vr\":\"IS\",\"Value\":[1]},\"00200013\":{\"vr\":\"IS\",\"Value\":[14]},\"00200032\":{\"vr\":\"DS\",\"Value\":[-44.281559574203,-125.45394317172,69.186220377603]},\"00200037\":{\"vr\":\"DS\",\"Value\":[0.11322774344085,0.98994132846044,0.08482714377647,-0.1073996406195,0.09707057986948,-0.9894658254425]},\"00200052\":{\"vr\":\"UI\",\"Value\":[\"1.3.12.2.1107.5.2.33.37105.1.20211122122200733.0.0.0\"]},\"00201040\":{\"vr\":\"LO\"},\"00201041\":{\"vr\":\"DS\",\"Value\":[-38.942963219967]},\"00280002\":{\"vr\":\"US\",\"Value\":[1]},\"00280004\":{\"vr\":\"CS\",\"Value\":[\"MONOCHROME2\"]},\"00280010\":{\"vr\":\"US\",\"Value\":[448]},\"00280011\":{\"vr\":\"US\",\"Value\":[448]},\"00280030\":{\"vr\":\"DS\",\"Value\":[0.3125,0.3125]},\"00280100\":{\"vr\":\"US\",\"Value\":[16]},\"00280101\":{\"vr\":\"US\",\"Value\":[12]},\"00280102\":{\"vr\":\"US\",\"Value\":[11]},\"00280103\":{\"vr\":\"US\",\"Value\":[0]},\"00280106\":{\"vr\":\"US\",\"Value\":[0]},\"00280107\":{\"vr\":\"US\",\"Value\":[1940]},\"00281050\":{\"vr\":\"DS\",\"Value\":[1029]},\"00281051\":{\"vr\":\"DS\",\"Value\":[1906]},\"00281055\":{\"vr\":\"LO\",\"Value\":[\"WINDOW1\"]},\"00290010\":{\"vr\":\"LO\",\"Value\":[\"SIEMENS CSA HEADER\"]},\"00290011\":{\"vr\":\"LO\",\"Value\":[\"SIEMENS MEDCOM HEADER2\"]},\"00291008\":{\"vr\":\"CS\",\"Value\":[\"IMAGE NUM 4\"]},\"00291009\":{\"vr\":\"LO\",\"Value\":[\"20211122\"]},\"00291018\":{\"vr\":\"CS\",\"Value\":[\"MR\"]},\"00291019\":{\"vr\":\"LO\",\"Value\":[\"20211122\"]},\"00291160\":{\"vr\":\"LO\",\"Value\":[\"com\"]},\"00400244\":{\"vr\":\"DA\",\"Value\":[\"20211122\"]},\"00400245\":{\"vr\":\"TM\",\"Value\":[\"122026.964000\"]},\"00400253\":{\"vr\":\"SH\",\"Value\":[\"0\"]},\"00400275\":{\"vr\":\"SQ\",\"Value\":[{\"00400009\":{\"vr\":\"SH\",\"Value\":[\"0\"]},\"00401001\":{\"vr\":\"SH\",\"Value\":[\"0\"]}}]},\"00510010\":{\"vr\":\"LO\",\"Value\":[\"SIEMENS MR HEADER\"]},\"00511008\":{\"vr\":\"CS\",\"Value\":[\"IMAGE NUM 4\"]},\"00511009\":{\"vr\":\"LO\",\"Value\":[\"1.0\"]},\"0051100A\":{\"vr\":\"LO\",\"Value\":[\"TA 02:24\"]},\"0051100B\":{\"vr\":\"LO\",\"Value\":[\"255*448s\"]},\"0051100C\":{\"vr\":\"LO\",\"Value\":[\"FoV 140*140\"]},\"0051100D\":{\"vr\":\"SH\",\"Value\":[\"SP R38.9\"]},\"0051100E\":{\"vr\":\"LO\",\"Value\":[\"Sag>Tra(6.8)>Cor(5.9)\"]},\"0051100F\":{\"vr\":\"LO\",\"Value\":[\"C:K15\"]},\"00511011\":{\"vr\":\"LO\",\"Value\":[\"p2\"]},\"00511012\":{\"vr\":\"SH\",\"Value\":[\"TP 0\"]},\"00511013\":{\"vr\":\"SH\",\"Value\":[\"+LPH\"]},\"00511015\":{\"vr\":\"SH\",\"Value\":[\"E\"]},\"00511016\":{\"vr\":\"LO\",\"Value\":[\"p2 M/ND/NORM\"]},\"00511017\":{\"vr\":\"SH\",\"Value\":[\"SL 3.0\"]},\"00511019\":{\"vr\":\"LO\",\"Value\":[\"A1\"]}}},{\"sequence\":10,\"partitionName\":\"Microsoft.Default\",\"studyInstanceUid\":\"1.2.752.24.7.2743982252.8429953\",\"seriesInstanceUid\":\"1.3.12.2.1107.5.2.33.37105.2021112212363965829224692.0.0.0\",\"sopInstanceUid\":\"1.3.12.2.1107.5.2.33.37105.2021112212364065622724744\",\"action\":\"Create\",\"timestamp\":\"2023-02-23T09:07:14.2635775+00:00\",\"state\":\"Current\",\"metadata\":{\"00080005\":{\"vr\":\"CS\",\"Value\":[\"ISO_IR 100\"]},\"00080008\":{\"vr\":\"CS\",\"Value\":[\"ORIGINAL\",\"PRIMARY\",\"M\",\"ND\",\"NORM\"]},\"00080012\":{\"vr\":\"DA\",\"Value\":[\"20211122\"]},\"00080013\":{\"vr\":\"TM\",\"Value\":[\"123643.394000\"]},\"00080016\":{\"vr\":\"UI\",\"Value\":[\"1.2.840.10008.5.1.4.1.1.4\"]},\"00080018\":{\"vr\":\"UI\",\"Value\":[\"1.3.12.2.1107.5.2.33.37105.2021112212364065622724744\"]},\"00080020\":{\"vr\":\"DA\",\"Value\":[\"20211122\"]},\"00080021\":{\"vr\":\"DA\",\"Value\":[\"20211122\"]},\"00080022\":{\"vr\":\"DA\",\"Value\":[\"20211122\"]},\"00080023\":{\"vr\":\"DA\",\"Value\":[\"20211122\"]},\"00080030\":{\"vr\":\"TM\",\"Value\":[\"122026\"]},\"00080031\":{\"vr\":\"TM\",\"Value\":[\"123643.359000\"]},\"00080032\":{\"vr\":\"TM\",\"Value\":[\"123415.652500\"]},\"00080033\":{\"vr\":\"TM\",\"Value\":[\"123643.394000\"]},\"00080050\":{\"vr\":\"SH\",\"Value\":[\"OPA15311064\"]},\"00080060\":{\"vr\":\"CS\",\"Value\":[\"MR\"]},\"00080070\":{\"vr\":\"LO\",\"Value\":[\"SIEMENS\"]},\"00080080\":{\"vr\":\"LO\",\"Value\":[\"Orthopedic Physician Associates\"]},\"00080081\":{\"vr\":\"ST\",\"Value\":[\"Street 900  terry ave,Seattle,Seattle,US,98004\"]},\"00080090\":{\"vr\":\"PN\",\"Value\":[{\"Alphabetic\":\"McAdam^Michael^K^^\"}]},\"00081010\":{\"vr\":\"SH\",\"Value\":[\"MRC37105\"]},\"00081030\":{\"vr\":\"LO\",\"Value\":[\"LOWER_EXT_RT^KNEE\"]},\"0008103E\":{\"vr\":\"LO\",\"Value\":[\"sag pd\"]},\"00081040\":{\"vr\":\"LO\",\"Value\":[\"Department\"]},\"00081050\":{\"vr\":\"PN\"},\"00081070\":{\"vr\":\"PN\",\"Value\":[{\"Alphabetic\":\"DMD\"}]},\"00081090\":{\"vr\":\"LO\",\"Value\":[\"SymphonyTim\"]},\"00081140\":{\"vr\":\"SQ\",\"Value\":[{\"00081150\":{\"vr\":\"UI\",\"Value\":[\"1.2.840.10008.5.1.4.1.1.4\"]},\"00081155\":{\"vr\":\"UI\",\"Value\":[\"1.3.12.2.1107.5.2.33.37105.2021112212305026529924528\"]}},{\"00081150\":{\"vr\":\"UI\",\"Value\":[\"1.2.840.10008.5.1.4.1.1.4\"]},\"00081155\":{\"vr\":\"UI\",\"Value\":[\"1.3.12.2.1107.5.2.33.37105.2021112212271552229624333\"]}},{\"00081150\":{\"vr\":\"UI\",\"Value\":[\"1.2.840.10008.5.1.4.1.1.4\"]},\"00081155\":{\"vr\":\"UI\",\"Value\":[\"1.3.12.2.1107.5.2.33.37105.2021112212232592396823659\"]}}]},\"00090010\":{\"vr\":\"LO\",\"Value\":[\"SECTRA_Ident_01\"]},\"00091001\":{\"vr\":\"LO\",\"Value\":[\"OPA15311064\"]},\"00091002\":{\"vr\":\"LO\",\"Value\":[\"0\"]},\"00100010\":{\"vr\":\"PN\",\"Value\":[{\"Alphabetic\":\"Tarapov^Ivan^^^\"}]},\"00100020\":{\"vr\":\"LO\",\"Value\":[\"OPA126979\"]},\"00100021\":{\"vr\":\"LO\",\"Value\":[\"63036410-3E0E-4042-A7A8-7C869C269928\"]},\"00100030\":{\"vr\":\"DA\",\"Value\":[\"19821004\"]},\"00100040\":{\"vr\":\"CS\",\"Value\":[\"M\"]},\"00101010\":{\"vr\":\"AS\",\"Value\":[\"039Y\"]},\"00101030\":{\"vr\":\"DS\",\"Value\":[104.326258371]},\"00180020\":{\"vr\":\"CS\",\"Value\":[\"SE\"]},\"00180021\":{\"vr\":\"CS\",\"Value\":[\"SK\",\"SP\",\"OSP\"]},\"00180022\":{\"vr\":\"CS\"},\"00180023\":{\"vr\":\"CS\",\"Value\":[\"2D\"]},\"00180024\":{\"vr\":\"SH\",\"Value\":[\"*tse2d1_7\"]},\"00180025\":{\"vr\":\"CS\",\"Value\":[\"N\"]},\"00180050\":{\"vr\":\"DS\",\"Value\":[3]},\"00180080\":{\"vr\":\"DS\",\"Value\":[3791]},\"00180081\":{\"vr\":\"DS\",\"Value\":[39]},\"00180083\":{\"vr\":\"DS\",\"Value\":[1]},\"00180084\":{\"vr\":\"DS\",\"Value\":[63.671932]},\"00180085\":{\"vr\":\"SH\",\"Value\":[\"1H\"]},\"00180086\":{\"vr\":\"IS\",\"Value\":[1]},\"00180087\":{\"vr\":\"DS\",\"Value\":[1.5]},\"00180088\":{\"vr\":\"DS\",\"Value\":[3]},\"00180089\":{\"vr\":\"IS\",\"Value\":[510]},\"00180091\":{\"vr\":\"IS\",\"Value\":[7]},\"00180093\":{\"vr\":\"DS\",\"Value\":[57]},\"00180094\":{\"vr\":\"DS\",\"Value\":[100]},\"00180095\":{\"vr\":\"DS\",\"Value\":[120]},\"00181000\":{\"vr\":\"LO\",\"Value\":[\"37105\"]},\"00181020\":{\"vr\":\"LO\",\"Value\":[\"syngo MR B19\"]},\"00181030\":{\"vr\":\"LO\",\"Value\":[\"sag pd\"]},\"00181251\":{\"vr\":\"SH\",\"Value\":[\"TxRx_15Ch_Knee\"]},\"00181310\":{\"vr\":\"US\",\"Value\":[448,0,0,255]},\"00181312\":{\"vr\":\"CS\",\"Value\":[\"COL\"]},\"00181314\":{\"vr\":\"DS\",\"Value\":[140]},\"00181315\":{\"vr\":\"CS\",\"Value\":[\"N\"]},\"00181316\":{\"vr\":\"DS\",\"Value\":[0.09383499511993]},\"00181318\":{\"vr\":\"DS\",\"Value\":[0]},\"00185100\":{\"vr\":\"CS\",\"Value\":[\"FFS\"]},\"00190010\":{\"vr\":\"LO\",\"Value\":[\"SIEMENS MR HEADER\"]},\"00191008\":{\"vr\":\"CS\",\"Value\":[\"IMAGE NUM 4\"]},\"00191009\":{\"vr\":\"LO\",\"Value\":[\"1.0\"]},\"0019100B\":{\"vr\":\"DS\",\"Value\":[144712.5]},\"0019100F\":{\"vr\":\"SH\",\"Value\":[\"Fast\"]},\"00191011\":{\"vr\":\"SH\",\"Value\":[\"No\"]},\"00191012\":{\"vr\":\"SL\",\"Value\":[0,0,-1569]},\"00191013\":{\"vr\":\"SL\",\"Value\":[0,0,-1569]},\"00191014\":{\"vr\":\"IS\",\"Value\":[0,0,0]},\"00191015\":{\"vr\":\"FD\",\"Value\":[-47.24480115,-125.14517013,69.53815147]},\"00191016\":{\"vr\":\"DS\",\"Value\":[1.1025]},\"00191017\":{\"vr\":\"DS\",\"Value\":[1]},\"00191018\":{\"vr\":\"IS\",\"Value\":[9300]},\"0020000D\":{\"vr\":\"UI\",\"Value\":[\"1.2.752.24.7.2743982252.8429953\"]},\"0020000E\":{\"vr\":\"UI\",\"Value\":[\"1.3.12.2.1107.5.2.33.37105.2021112212363965829224692.0.0.0\"]},\"00200010\":{\"vr\":\"SH\",\"Value\":[\"0\"]},\"00200011\":{\"vr\":\"IS\",\"Value\":[5]},\"00200012\":{\"vr\":\"IS\",\"Value\":[1]},\"00200013\":{\"vr\":\"IS\",\"Value\":[15]},\"00200032\":{\"vr\":\"DS\",\"Value\":[-47.244801151352,-125.14517013095,69.538151472726]},\"00200037\":{\"vr\":\"DS\",\"Value\":[0.11322774344085,0.98994132846044,0.08482714377647,-0.1073996406195,0.09707057986948,-0.9894658254425]},\"00200052\":{\"vr\":\"UI\",\"Value\":[\"1.3.12.2.1107.5.2.33.37105.1.20211122122200733.0.0.0\"]},\"00201040\":{\"vr\":\"LO\"},\"00201041\":{\"vr\":\"DS\",\"Value\":[-41.942962708461]},\"00280002\":{\"vr\":\"US\",\"Value\":[1]},\"00280004\":{\"vr\":\"CS\",\"Value\":[\"MONOCHROME2\"]},\"00280010\":{\"vr\":\"US\",\"Value\":[448]},\"00280011\":{\"vr\":\"US\",\"Value\":[448]},\"00280030\":{\"vr\":\"DS\",\"Value\":[0.3125,0.3125]},\"00280100\":{\"vr\":\"US\",\"Value\":[16]},\"00280101\":{\"vr\":\"US\",\"Value\":[12]},\"00280102\":{\"vr\":\"US\",\"Value\":[11]},\"00280103\":{\"vr\":\"US\",\"Value\":[0]},\"00280106\":{\"vr\":\"US\",\"Value\":[0]},\"00280107\":{\"vr\":\"US\",\"Value\":[2222]},\"00281050\":{\"vr\":\"DS\",\"Value\":[1029]},\"00281051\":{\"vr\":\"DS\",\"Value\":[1906]},\"00281055\":{\"vr\":\"LO\",\"Value\":[\"WINDOW1\"]},\"00290010\":{\"vr\":\"LO\",\"Value\":[\"SIEMENS CSA HEADER\"]},\"00290011\":{\"vr\":\"LO\",\"Value\":[\"SIEMENS MEDCOM HEADER2\"]},\"00291008\":{\"vr\":\"CS\",\"Value\":[\"IMAGE NUM 4\"]},\"00291009\":{\"vr\":\"LO\",\"Value\":[\"20211122\"]},\"00291018\":{\"vr\":\"CS\",\"Value\":[\"MR\"]},\"00291019\":{\"vr\":\"LO\",\"Value\":[\"20211122\"]},\"00291160\":{\"vr\":\"LO\",\"Value\":[\"com\"]},\"00400244\":{\"vr\":\"DA\",\"Value\":[\"20211122\"]},\"00400245\":{\"vr\":\"TM\",\"Value\":[\"122026.964000\"]},\"00400253\":{\"vr\":\"SH\",\"Value\":[\"0\"]},\"00400275\":{\"vr\":\"SQ\",\"Value\":[{\"00400009\":{\"vr\":\"SH\",\"Value\":[\"0\"]},\"00401001\":{\"vr\":\"SH\",\"Value\":[\"0\"]}}]},\"00510010\":{\"vr\":\"LO\",\"Value\":[\"SIEMENS MR HEADER\"]},\"00511008\":{\"vr\":\"CS\",\"Value\":[\"IMAGE NUM 4\"]},\"00511009\":{\"vr\":\"LO\",\"Value\":[\"1.0\"]},\"0051100A\":{\"vr\":\"LO\",\"Value\":[\"TA 02:24\"]},\"0051100B\":{\"vr\":\"LO\",\"Value\":[\"255*448s\"]},\"0051100C\":{\"vr\":\"LO\",\"Value\":[\"FoV 140*140\"]},\"0051100D\":{\"vr\":\"SH\",\"Value\":[\"SP R41.9\"]},\"0051100E\":{\"vr\":\"LO\",\"Value\":[\"Sag>Tra(6.8)>Cor(5.9)\"]},\"0051100F\":{\"vr\":\"LO\",\"Value\":[\"C:K15\"]},\"00511011\":{\"vr\":\"LO\",\"Value\":[\"p2\"]},\"00511012\":{\"vr\":\"SH\",\"Value\":[\"TP 0\"]},\"00511013\":{\"vr\":\"SH\",\"Value\":[\"+LPH\"]},\"00511015\":{\"vr\":\"SH\",\"Value\":[\"E\"]},\"00511016\":{\"vr\":\"LO\",\"Value\":[\"p2 M/ND/NORM\"]},\"00511017\":{\"vr\":\"SH\",\"Value\":[\"SL 3.0\"]},\"00511019\":{\"vr\":\"LO\",\"Value\":[\"A1\"]}}}]'\n"
     ]
    }
   ],
   "source": [
    "headers = {\"Authorization\":bearer_token}\n",
    "url= f'{base_url}/changefeed'\n",
    "response = client.get(url,headers=headers)\n",
    "\n",
    "print(response.content)"
   ]
  },
  {
   "attachments": {},
   "cell_type": "markdown",
   "id": "03a2983c",
   "metadata": {},
   "source": [
    "# Sending"
   ]
  },
  {
   "cell_type": "code",
   "execution_count": 18,
   "id": "cb0c544b",
   "metadata": {},
   "outputs": [],
   "source": [
    "def send_dicom_files(path_to_dicom_dir: str, base_url: str, bearer_token: str, batch_size: int = 0, start_batch: int = 0):\n",
    "\n",
    "    file_extension = \"\"\n",
    "\n",
    "    # Get a list of all files in the folder with the specified file extension\n",
    "    folder_path = Path(path_to_dicom_dir)\n",
    "    file_names = [str(file_path) for file_path in folder_path.rglob(f'*{file_extension}') if Path.is_file(file_path)]\n",
    "\n",
    "    print(f\"Found {len(file_names)} files\")\n",
    "\n",
    "     # Create a list to store the file bytes\n",
    "    rawfiles = []\n",
    "    \n",
    "    # Read the contents of each file and add them to the list\n",
    "    for file_name in file_names:\n",
    "        filepath = Path(path_to_dicom_dir).joinpath(file_name)\n",
    "        # print(f\"Loading {filepath}\")\n",
    "        if (is_dicom_file(file_name)):\n",
    "            with open(filepath, 'rb') as reader:\n",
    "                rawfile = reader.read()\n",
    "            rawfiles.append(rawfile)\n",
    "        else:\n",
    "            print(f\"Not a valid DICOM file, skipping: {file_name}\")\n",
    "    \n",
    "    print(f\"Loaded {len(rawfiles)} files\")\n",
    "\n",
    "    # Create a list of tuples containing the file data and MIME type\n",
    "    files = []\n",
    "    for i in range(len(rawfiles)):\n",
    "        file_data = rawfiles[i]\n",
    "        file_name = f'dicomfile{i}'\n",
    "        file_mime_type = 'application/dicom'\n",
    "        files.append((file_name,('dicomfile', file_data, file_mime_type)))\n",
    "    \n",
    "    file_batches = [files]\n",
    "\n",
    "    if (batch_size > 0):\n",
    "        # Split the list of files into batches\n",
    "        file_batches = [files[i:i+batch_size] for i in range(0, len(files), batch_size)]\n",
    "\n",
    "    responses = []\n",
    "\n",
    "    if (batch_size > 0):\n",
    "        print(f\"Preparing to send {len(file_batches)} batch{'' if len(file_batches)%10 == 1 else 'es'} of {batch_size} files each\")\n",
    "    else:\n",
    "        print(f\"Preparing to send {len(files)} in one batch\")\n",
    "\n",
    "    if (start_batch > 0):\n",
    "        print(f\"Skipping to batch {start_batch}\")\n",
    "\n",
    "    files_sent = 0\n",
    "    for index, file_batch in enumerate(file_batches):\n",
    "        if (start_batch > 0 and index+1 < start_batch):\n",
    "            continue\n",
    "\n",
    "        # Encode the file data as multipart_related\n",
    "        body, content_type = encode_multipart_related(fields=dict(file_batch))\n",
    "\n",
    "        # Set the request headers\n",
    "        headers = {\n",
    "            'Accept': 'application/dicom+json',\n",
    "            'Content-Type': content_type,\n",
    "            'Authorization': bearer_token\n",
    "        }        # Send the POST request to the API endpoint\n",
    "        \n",
    "        url = f'{base_url}/studies'\n",
    "        response = client.post(url, data=body, headers=headers, verify=False)\n",
    "\n",
    "        responses.append(response)\n",
    "        files_sent+=len(file_batch)\n",
    "        print(f\"Sent batch {index+1} of {len(file_batches)} with {len(file_batch)} files. Status: {response.status_code}\")\n",
    "\n",
    "    print(f\"Sent {files_sent} files\")\n",
    "\n",
    "    # Return the response from the API endpoint\n",
    "    return responses\n"
   ]
  },
  {
   "cell_type": "code",
   "execution_count": 21,
   "id": "7dc7e353",
   "metadata": {},
   "outputs": [
    {
     "name": "stdout",
     "output_type": "stream",
     "text": [
      "Found 403 files\n",
      "Loaded 403 files\n",
      "Preparing to send 41 batch of 10 files each\n",
      "Skipping to batch 40\n"
     ]
    },
    {
     "name": "stderr",
     "output_type": "stream",
     "text": [
      "c:\\Users\\tarap\\miniconda3\\envs\\medai\\lib\\site-packages\\urllib3\\connectionpool.py:1045: InsecureRequestWarning: Unverified HTTPS request is being made to host 'healthserviceseastusws-dicomservice-eastus.dicom.azurehealthcareapis.com'. Adding certificate verification is strongly advised. See: https://urllib3.readthedocs.io/en/1.26.x/advanced-usage.html#ssl-warnings\n",
      "  warnings.warn(\n"
     ]
    },
    {
     "name": "stdout",
     "output_type": "stream",
     "text": [
      "Sent batch 40 of 41 with 10 files. Status: 409\n"
     ]
    },
    {
     "name": "stderr",
     "output_type": "stream",
     "text": [
      "c:\\Users\\tarap\\miniconda3\\envs\\medai\\lib\\site-packages\\urllib3\\connectionpool.py:1045: InsecureRequestWarning: Unverified HTTPS request is being made to host 'healthserviceseastusws-dicomservice-eastus.dicom.azurehealthcareapis.com'. Adding certificate verification is strongly advised. See: https://urllib3.readthedocs.io/en/1.26.x/advanced-usage.html#ssl-warnings\n",
      "  warnings.warn(\n"
     ]
    },
    {
     "name": "stdout",
     "output_type": "stream",
     "text": [
      "Sent batch 41 of 41 with 3 files. Status: 409\n",
      "Sent 13 files\n"
     ]
    }
   ],
   "source": [
    "responses = send_dicom_files(r\"C:\\temp\\imaging\\jan15\\DICOM\\DICOM\\0000788D\\AAEBB2F4\", base_url, bearer_token, 10, 40)"
   ]
  },
  {
   "attachments": {},
   "cell_type": "markdown",
   "id": "f9597fa9",
   "metadata": {},
   "source": [
    "## Analyzing response"
   ]
  },
  {
   "cell_type": "code",
   "execution_count": 23,
   "id": "139dc28c",
   "metadata": {},
   "outputs": [
    {
     "name": "stdout",
     "output_type": "stream",
     "text": [
      "Response 1 of 2\n",
      "Response classes: 1 (['00081198'])\n",
      "\n",
      "Failures (00081198):\n",
      "\n",
      "Obj 0, Instance UID ['1.3.12.2.1107.5.2.33.37105.30000015011618412262500000997']\n",
      "Failure reason: A DICOM instance with the same StudyInstanceUID, SeriesInstanceUID, and SopInstanceUID has already been stored. If you wish to update the contents, delete this instance first.\n",
      "\n",
      "Obj 1, Instance UID ['1.3.12.2.1107.5.2.33.37105.30000015011618412262500000999']\n",
      "Failure reason: A DICOM instance with the same StudyInstanceUID, SeriesInstanceUID, and SopInstanceUID has already been stored. If you wish to update the contents, delete this instance first.\n",
      "\n",
      "Obj 2, Instance UID ['1.3.12.2.1107.5.2.33.37105.30000015011618412262500000987']\n",
      "Failure reason: A DICOM instance with the same StudyInstanceUID, SeriesInstanceUID, and SopInstanceUID has already been stored. If you wish to update the contents, delete this instance first.\n",
      "\n",
      "Obj 3, Instance UID ['1.3.12.2.1107.5.2.33.37105.30000015011618412262500000986']\n",
      "Failure reason: A DICOM instance with the same StudyInstanceUID, SeriesInstanceUID, and SopInstanceUID has already been stored. If you wish to update the contents, delete this instance first.\n",
      "\n",
      "Obj 4, Instance UID ['1.3.12.2.1107.5.2.33.37105.30000015011618412262500001001']\n",
      "Failure reason: A DICOM instance with the same StudyInstanceUID, SeriesInstanceUID, and SopInstanceUID has already been stored. If you wish to update the contents, delete this instance first.\n",
      "\n",
      "Obj 5, Instance UID ['1.3.12.2.1107.5.2.33.37105.30000015011618412262500001003']\n",
      "Failure reason: A DICOM instance with the same StudyInstanceUID, SeriesInstanceUID, and SopInstanceUID has already been stored. If you wish to update the contents, delete this instance first.\n",
      "\n",
      "Obj 6, Instance UID ['1.3.12.2.1107.5.2.33.37105.30000015011618412262500000992']\n",
      "Failure reason: A DICOM instance with the same StudyInstanceUID, SeriesInstanceUID, and SopInstanceUID has already been stored. If you wish to update the contents, delete this instance first.\n",
      "\n",
      "Obj 7, Instance UID ['1.3.12.2.1107.5.2.33.37105.30000015011618412262500001000']\n",
      "Failure reason: A DICOM instance with the same StudyInstanceUID, SeriesInstanceUID, and SopInstanceUID has already been stored. If you wish to update the contents, delete this instance first.\n",
      "\n",
      "Obj 8, Instance UID ['1.3.12.2.1107.5.2.33.37105.30000015011618412262500000985']\n",
      "Failure reason: A DICOM instance with the same StudyInstanceUID, SeriesInstanceUID, and SopInstanceUID has already been stored. If you wish to update the contents, delete this instance first.\n",
      "\n",
      "Obj 9, Instance UID ['1.3.12.2.1107.5.2.33.37105.30000015011618412262500000998']\n",
      "Failure reason: A DICOM instance with the same StudyInstanceUID, SeriesInstanceUID, and SopInstanceUID has already been stored. If you wish to update the contents, delete this instance first.\n",
      "\n",
      "Failed objects: 10\n",
      "-------\n",
      "Response 2 of 2\n",
      "Response classes: 1 (['00081198'])\n",
      "\n",
      "Failures (00081198):\n",
      "\n",
      "Obj 0, Instance UID ['1.3.12.2.1107.5.2.33.37105.30000015011618412262500001004']\n",
      "Failure reason: A DICOM instance with the same StudyInstanceUID, SeriesInstanceUID, and SopInstanceUID has already been stored. If you wish to update the contents, delete this instance first.\n",
      "\n",
      "Obj 1, Instance UID ['1.3.12.2.1107.5.2.33.37105.30000015011618412262500000994']\n",
      "Failure reason: A DICOM instance with the same StudyInstanceUID, SeriesInstanceUID, and SopInstanceUID has already been stored. If you wish to update the contents, delete this instance first.\n",
      "\n",
      "Obj 2, Instance UID ['1.3.12.2.1107.5.2.33.37105.30000015011618412262500000995']\n",
      "Failure reason: A DICOM instance with the same StudyInstanceUID, SeriesInstanceUID, and SopInstanceUID has already been stored. If you wish to update the contents, delete this instance first.\n",
      "\n",
      "Failed objects: 3\n",
      "-------\n"
     ]
    }
   ],
   "source": [
    "for index, response in enumerate(responses):\n",
    "    print(f\"Response {index+1} of {len(responses)}\")\n",
    "\n",
    "    jsondata = json.loads(response.content)\n",
    "    print(f\"Response classes: {len(jsondata)} ({[x for x in jsondata]})\\n\")\n",
    "\n",
    "    failure_tag = \"00081198\"\n",
    "    success_tag = \"00081199\"\n",
    "\n",
    "    failure_reasons = {\n",
    "        \"272\": \"The store transaction didn't store the instance because of a general failure in processing the operation.\",\n",
    "        \"43264\": \"The DICOM instance failed the validation.\",\n",
    "        \"43265\": \"The provided instance StudyInstanceUID didn't match the specified StudyInstanceUID in the store request.\",\n",
    "        \"45070\": \"A DICOM instance with the same StudyInstanceUID, SeriesInstanceUID, and SopInstanceUID has already been stored. If you wish to update the contents, delete this instance first.\",\n",
    "        \"45071\": \"A DICOM instance is being created by another process, or the previous attempt to create has failed and the cleanup process hasn't had chance to clean up yet. Delete the instance first before attempting to create again.\"\n",
    "    }\n",
    "\n",
    "    if (failure_tag in jsondata):\n",
    "        print(f\"Failures ({failure_tag}):\")\n",
    "        # Parse the JSON text into a Python dictionary\n",
    "        data = json.loads(response.content)[failure_tag][\"Value\"]\n",
    "\n",
    "        # Count the number of objects\n",
    "        count = len(data)\n",
    "\n",
    "        # Print DICOM Error Comment for each object\n",
    "        error_comments = []\n",
    "        for index, item in enumerate(data):\n",
    "            print(f\"\\nObj {index}, Instance UID {item['00081155']['Value'] if '00081155' in item else '[no iud]'}\")\n",
    "            failure_reason = str(item[\"00081197\"][\"Value\"][0])\n",
    "            print(f\"Failure reason: {failure_reasons[failure_reason] if failure_reason in failure_reasons else f'Unknown ({failure_reason})'}\")\n",
    "            if '00741048' in item:\n",
    "                for sub_item in item['00741048']['Value']:\n",
    "                    if '00000902' in sub_item:\n",
    "                        print(sub_item['00000902']['Value'])\n",
    "\n",
    "        print(f\"\\nFailed objects: {count}\\n-------\")\n",
    "\n",
    "    if (success_tag in jsondata):\n",
    "        print(f\"\\nSuccesses ({success_tag}): {len(jsondata[success_tag]['Value'])}\")\n"
   ]
  },
  {
   "attachments": {},
   "cell_type": "markdown",
   "id": "9b11795f",
   "metadata": {},
   "source": [
    "# Deletion"
   ]
  },
  {
   "attachments": {},
   "cell_type": "markdown",
   "id": "3cf2451a",
   "metadata": {},
   "source": [
    "Delete study"
   ]
  },
  {
   "cell_type": "code",
   "execution_count": 87,
   "id": "1c429a4a",
   "metadata": {},
   "outputs": [],
   "source": [
    "study_uid = \"1.2.840.113619.2.81.290.1.33656.20140218.202536\"\n",
    "\n",
    "url = f'{base_url}/studies/{study_uid}'\n",
    "response = client.delete(url, headers=headers) "
   ]
  },
  {
   "cell_type": "code",
   "execution_count": 88,
   "id": "bd064aed",
   "metadata": {},
   "outputs": [
    {
     "name": "stdout",
     "output_type": "stream",
     "text": [
      "Status: 204\n",
      "\n",
      "b''\n"
     ]
    }
   ],
   "source": [
    "print(f\"Status: {response.status_code}\\n\")\n",
    "print(response.content)"
   ]
  }
 ],
 "metadata": {
  "kernelspec": {
   "display_name": "medai",
   "language": "python",
   "name": "python3"
  },
  "language_info": {
   "codemirror_mode": {
    "name": "ipython",
    "version": 3
   },
   "file_extension": ".py",
   "mimetype": "text/x-python",
   "name": "python",
   "nbconvert_exporter": "python",
   "pygments_lexer": "ipython3",
   "version": "3.10.9"
  },
  "vscode": {
   "interpreter": {
    "hash": "f4425ee9ffb484bd0ba983521924868f5f7eeb31433c0278f49fa2db76e8973b"
   }
  }
 },
 "nbformat": 4,
 "nbformat_minor": 5
}
